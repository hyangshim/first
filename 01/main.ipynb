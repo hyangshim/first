{
 "cells": [
  {
   "cell_type": "code",
   "execution_count": 3,
   "metadata": {},
   "outputs": [
    {
     "name": "stdout",
     "output_type": "stream",
     "text": [
      "7 -3 10 0.4 32\n"
     ]
    }
   ],
   "source": [
    "def plus(a=0,b=0):\n",
    "    print(a+b,a-b,a*b,a/b,a**b)\n",
    "\n",
    "plus(2,5)\n"
   ]
  },
  {
   "cell_type": "code",
   "execution_count": 2,
   "metadata": {},
   "outputs": [
    {
     "name": "stdout",
     "output_type": "stream",
     "text": [
      "사랑+쥬+얼+설\n"
     ]
    }
   ],
   "source": [
    "def make_juice(fruit):\n",
    "    return f\"{fruit}+쥬\"\n",
    "def add_ice(juice):\n",
    "    return f\"{juice}+얼\"\n",
    "def add_sugar(iced_juice):\n",
    "    return f\"{iced_juice}+설\"\n",
    "juice =make_juice('사랑')\n",
    "cold_juice = add_ice(juice)\n",
    "perfect_juice = add_sugar(cold_juice)\n",
    "\n",
    "print(perfect_juice)"
   ]
  },
  {
   "cell_type": "code",
   "execution_count": 3,
   "metadata": {},
   "outputs": [
    {
     "name": "stdout",
     "output_type": "stream",
     "text": [
      "lower computer chose 1\n"
     ]
    }
   ],
   "source": [
    "import random\n",
    "user_choice =int(input(\"선택\"))\n",
    "pc_choice= random.randint(1,50)\n",
    "\n",
    "if user_choice ==pc_choice:\n",
    "    print(\"You won\")\n",
    "    playing = False\n",
    "elif user_choice > pc_choice:\n",
    "    print(\"lower computer chose\",pc_choice)\n",
    "elif user_choice < pc_choice:\n",
    "    print(\"highe omputer chose\",pc_choice)\n"
   ]
  },
  {
   "cell_type": "code",
   "execution_count": 2,
   "metadata": {},
   "outputs": [
    {
     "name": "stdout",
     "output_type": "stream",
     "text": [
      "welcome to python casino\n",
      "lower \n",
      "lower \n",
      "highe\n",
      "lower \n",
      "lower \n",
      "lower \n",
      "lower \n",
      "You won\n"
     ]
    }
   ],
   "source": [
    "import random\n",
    "print(\"welcome to python casino 1-50\")\n",
    "pc_choice= random.randint(1,50)\n",
    "playing =True\n",
    "\n",
    "while playing :\n",
    "    user_choice =int(input(\"선택\"))\n",
    "    if user_choice ==pc_choice:\n",
    "        print(\"You won\")\n",
    "        playing = False\n",
    "    elif user_choice > pc_choice:\n",
    "        print(\"lower \")\n",
    "    elif user_choice < pc_choice:\n",
    "        print(\"highe\")"
   ]
  },
  {
   "cell_type": "code",
   "execution_count": 4,
   "metadata": {},
   "outputs": [
    {
     "name": "stdout",
     "output_type": "stream",
     "text": [
      "['Mon', 'Tue', 'sed', 'Thu', 'Fri', '하']\n"
     ]
    }
   ],
   "source": [
    "days_of_week =[\"Mon\",\"Tue\",\"sed\",\"Thu\",\"Fri\"]\n",
    "days_of_week.append(\"하\")\n",
    "print(days_of_week)\n"
   ]
  },
  {
   "cell_type": "code",
   "execution_count": 8,
   "metadata": {},
   "outputs": [
    {
     "name": "stdout",
     "output_type": "stream",
     "text": [
      "{'name': 'nico', 'age': 12, 'alive': True, 'fav_food': ['🍟', '🌮'], 'xp': 15000}\n",
      "['🍟', '🌮']\n"
     ]
    }
   ],
   "source": [
    "player ={\n",
    "    'name':'nico',\n",
    "    'age':12,\n",
    "    'alive':True,\n",
    "    'fav_food':[\"🍟\",\"🌮\"]\n",
    "}\n",
    "player['xp']=15000\n",
    "print(player)\n",
    "print(player.get('fav_food'))"
   ]
  },
  {
   "cell_type": "code",
   "execution_count": 10,
   "metadata": {},
   "outputs": [
    {
     "name": "stdout",
     "output_type": "stream",
     "text": [
      "['🍟', '🌮', '🍠']\n",
      "['🍟', '🌮', '🍠']\n"
     ]
    }
   ],
   "source": [
    "player ={\n",
    "    'name':'nico',\n",
    "    'age':12,\n",
    "    'alive':True,\n",
    "    'fav_food':[\"🍟\",\"🌮\"]\n",
    "}\n",
    "player['fav_food'].append(\"🍠\")\n",
    "print(player.get('fav_food'))\n",
    "print(player['fav_food'])"
   ]
  },
  {
   "cell_type": "code",
   "execution_count": 14,
   "metadata": {},
   "outputs": [
    {
     "name": "stdout",
     "output_type": "stream",
     "text": [
      "we have to fix it\n",
      "good to go\n",
      "we have to fix it\n",
      "good to go\n"
     ]
    }
   ],
   "source": [
    "wedbsites=(\n",
    "    \"google.com\",\n",
    "    \"https://airbnb.com\",\n",
    "    \"twitter.com\",\n",
    "    \"https://facebook.com\"\n",
    ")\n",
    "for wedbsite in wedbsites:\n",
    "    if wedbsite.startswith(\"https://\"):\n",
    "        print(\"good to go\")\n",
    "    else:\n",
    "        print(\"we have to fix it\")\n",
    "  "
   ]
  },
  {
   "cell_type": "code",
   "execution_count": 15,
   "metadata": {},
   "outputs": [
    {
     "name": "stdout",
     "output_type": "stream",
     "text": [
      "have to fix\n",
      "have to fix\n"
     ]
    }
   ],
   "source": [
    "wedbsites=(\n",
    "    \"google.com\",\n",
    "    \"https://airbnb.com\",\n",
    "    \"twitter.com\",\n",
    "    \"https://facebook.com\"\n",
    ")\n",
    "for wedbsite in wedbsites:\n",
    "    if  not wedbsite.startswith(\"https://\"):\n",
    "        print(\"have to fix\")\n",
    "    "
   ]
  },
  {
   "cell_type": "code",
   "execution_count": 17,
   "metadata": {},
   "outputs": [
    {
     "name": "stdout",
     "output_type": "stream",
     "text": [
      "https://google.com\n",
      "https://airbnb.com\n",
      "https://twitter.com\n",
      "https://facebook.com\n"
     ]
    }
   ],
   "source": [
    "from requests import get\n",
    "\n",
    "wedbsites=(\n",
    "    \"google.com\",\n",
    "    \"https://airbnb.com\",\n",
    "    \"twitter.com\",\n",
    "    \"https://facebook.com\"\n",
    ")\n",
    "for wedbsite in wedbsites:\n",
    "    if  not wedbsite.startswith(\"https://\"):  # https:// 시작하지 않으면 True 밑에 코드가 실행\n",
    "       wedbsite = f\"https://{wedbsite}\"       #wedbsite 변수는 이제 https://를 붙인 값으로 업데이트해줘\n",
    "    print(wedbsite)"
   ]
  },
  {
   "cell_type": "code",
   "execution_count": 34,
   "metadata": {},
   "outputs": [
    {
     "name": "stdout",
     "output_type": "stream",
     "text": [
      "{'https://google.com/502': '클라이언트 오류 응답  ', 'https://airbnb.com/404': 'ok', 'https://twitter.com/345': 'ok', 'https://facebook.com//99': 'ok'}\n"
     ]
    }
   ],
   "source": [
    "from requests import get\n",
    "wedbsites=(\n",
    "    \"google.com/502\",\n",
    "    \"https://airbnb.com/404\",\n",
    "    \"twitter.com/345\",\n",
    "    \"https://facebook.com//199\"\n",
    ")\n",
    "results = {}\n",
    "for wedbsite in wedbsites:\n",
    "   \n",
    "    if  not wedbsite.startswith(\"https://\"):  # https:// 시작하지 않으면 True 밑에 코드가 실행\n",
    "       wedbsite = f\"https://{wedbsite}\"       #wedbsite 변수는 이제 https://를 붙인 값으로 업데이트해줘\n",
    "    response = get(wedbsite)\n",
    "    if response.status_code <=199:\n",
    "         results [wedbsite] =\"정보응답  \"\n",
    "    elif response.status_code <= 299:\n",
    "        results [wedbsite] =\"ok\"\n",
    "    elif response.status_code <=399:\n",
    "         results [wedbsite] =\"리디렉션 메시지 \"\n",
    "    elif response.status_code <=499:\n",
    "         results [wedbsite] =\"클라이언트 오류 응답  \"\n",
    "    else:\n",
    "        results [wedbsite] =\"서버 오류 응답 \"\n",
    "print(results)"
   ]
  },
  {
   "cell_type": "code",
   "execution_count": 4,
   "metadata": {},
   "outputs": [
    {
     "name": "stdout",
     "output_type": "stream",
     "text": [
      "[<section class=\"jobs\" id=\"category-2\"><article><h2><a href=\"/categories/remote-full-stack-programming-jobs\">Full-Stack Programming Jobs</a><span class=\"latest_post\">Latest post 6 days ago</span><a href=\"/categories/remote-full-stack-programming-jobs.rss\"><img class=\"feed\" height=\"16\" src=\"https://weworkremotely.com/assets/rss-feed-bac611a39b717b45766a28c96e549e1879df2786844a54f9c888ed89d64891a7.svg\" width=\"16\"/></a></h2><ul><section class=\"content-wrap\" id=\"desktop-digest\"><div class=\"inline_signup0\"><div class=\"errors0\"></div><form accept-charset=\"UTF-8\" action=\"/digest\" class=\"inline\" data-remote=\"true\" id=\"email-subscription-form\" method=\"post\"><input name=\"form\" type=\"hidden\" value=\"0\"/><div class=\"inline-email-subscription-main\"> Get new <button class=\"inline-categories-toggle\" name=\"button\" type=\"button\">Full-Stack Programming</button> listings sent to <input id=\"digest_subscription_email\" name=\"digest_subscription[email]\" placeholder=\"you@youremail.com\" type=\"email\"/> every day! <input class=\"inline\" data-disable-with=\"Subscribe\" name=\"commit\" type=\"submit\" value=\"Subscribe\"/></div><div class=\"email-subscription-categories\"><label><input data-label=\"Design\" id=\"categories_\" name=\"categories[]\" type=\"checkbox\" value=\"1\"/><span>Design</span></label><label><input checked=\"\" data-label=\"Full-Stack Programming\" id=\"categories_\" name=\"categories[]\" type=\"checkbox\" value=\"2\"/><span>Full-Stack Programming</span></label><label><input data-label=\"Front-End Programming\" id=\"categories_\" name=\"categories[]\" type=\"checkbox\" value=\"17\"/><span>Front-End Programming</span></label><label><input data-label=\"Back-End Programming\" id=\"categories_\" name=\"categories[]\" type=\"checkbox\" value=\"18\"/><span>Back-End Programming</span></label><label><input data-label=\"Customer Support\" id=\"categories_\" name=\"categories[]\" type=\"checkbox\" value=\"7\"/><span>Customer Support</span></label><label><input data-label=\"DevOps and Sysadmin\" id=\"categories_\" name=\"categories[]\" type=\"checkbox\" value=\"6\"/><span>DevOps and Sysadmin</span></label><label><input data-label=\"Sales and Marketing\" id=\"categories_\" name=\"categories[]\" type=\"checkbox\" value=\"9\"/><span>Sales and Marketing</span></label><label><input data-label=\"Management and Finance\" id=\"categories_\" name=\"categories[]\" type=\"checkbox\" value=\"3\"/><span>Management and Finance</span></label><label><input data-label=\"Product\" id=\"categories_\" name=\"categories[]\" type=\"checkbox\" value=\"11\"/><span>Product</span></label><label><input data-label=\"All Other Remote\" id=\"categories_\" name=\"categories[]\" type=\"checkbox\" value=\"4\"/><span>All Other Remote</span></label></div></form></div></section><li class=\"feature\"><div class=\"highlight-bar\"></div><div class=\"tooltip\"><a href=\"/company/remotemore\"><div alt=\"RemoteMore is hiring a remote Python Developer at We Work Remotely.\" class=\"flag-logo\" loading=\"lazy\" style=\"background-image:url(https://we-work-remotely.imgix.net/logos/0006/6215/logo.gif?ixlib=rails-4.0.0&amp;w=50&amp;h=50&amp;dpr=2&amp;fit=fill&amp;auto=compress)\"></div><span class=\"tooltiptext\">View Company Profile</span></a></div><a href=\"/remote-jobs/remotemore-python-developer-6\"><span class=\"company\">RemoteMore</span><br/><span class=\"title\">Python Developer</span><span class=\"featured\">featured</span><br/><span class=\"company\">Full-Time</span><span>/</span><span class=\"region company\">Americas Only/Europe Only/Africa Only</span></a></li><li class=\"feature\"><div class=\"highlight-bar\"></div><div class=\"tooltip\"><a href=\"/company/shake\"><div alt=\"Shake is hiring a remote Senior Python Engineer at We Work Remotely.\" class=\"flag-logo\" loading=\"lazy\" style=\"background-image:url(https://we-work-remotely.imgix.net/logos/0066/9273/logo.gif?ixlib=rails-4.0.0&amp;w=50&amp;h=50&amp;dpr=2&amp;fit=fill&amp;auto=compress)\"></div><span class=\"tooltiptext\">View Company Profile</span></a></div><a href=\"/remote-jobs/shake-senior-python-engineer-1\"><span class=\"company\">Shake</span><br/><span class=\"title\">Senior Python Engineer</span><span class=\"date\"><time data-format=\"%b %e\" data-local=\"time\" datetime=\"2023-03-31T10:14:07Z\">Mar 31</time></span><br/><span class=\"company\">Full-Time</span><span>/</span><span class=\"region company\">Anywhere in the World</span></a></li><li class=\"feature\"><div class=\"highlight-bar\"></div><div class=\"tooltip\"><a href=\"/company/opencraft\"><div alt=\"OpenCraft is hiring a remote Senior Open Source Developer &amp; DevOps (Python, Django, React, AWS/OpenStack) at We Work Remotely.\" class=\"flag-logo\" loading=\"lazy\" style=\"background-image:url(https://we-work-remotely.imgix.net/logos/0018/2699/logo.gif?ixlib=rails-4.0.0&amp;w=50&amp;h=50&amp;dpr=2&amp;fit=fill&amp;auto=compress)\"></div><span class=\"tooltiptext\">View Company Profile</span></a></div><a href=\"/remote-jobs/opencraft-senior-open-source-developer-devops-python-django-react-aws-openstack\"><span class=\"company\">OpenCraft</span><br/><span class=\"title\">Senior Open Source Developer &amp; DevOps (Python, Django, React, AWS/OpenStack)</span><span class=\"featured\">featured</span><br/><span class=\"company\">Full-Time</span><span>/</span><span class=\"region company\">Anywhere in the World</span></a></li><li class=\"feature\"><div class=\"highlight-bar\"></div><div class=\"tooltip\"><a href=\"/company/proxify-ab\"><div alt=\"Proxify AB is hiring a remote Senior Python Engineer: Long-term job - 100% remote at We Work Remotely.\" class=\"flag-logo\" loading=\"lazy\" style=\"background-image:url(https://we-work-remotely.imgix.net/logos/0084/0935/logo.gif?ixlib=rails-4.0.0&amp;w=50&amp;h=50&amp;dpr=2&amp;fit=fill&amp;auto=compress)\"></div><span class=\"tooltiptext\">View Company Profile</span></a></div><a href=\"/remote-jobs/proxify-ab-senior-python-engineer-long-term-job-100-remote\"><span class=\"company\">Proxify AB</span><br/><span class=\"title\">Senior Python Engineer: Long-term job - 100% remote</span><span class=\"date\"><time data-format=\"%b %e\" data-local=\"time\" datetime=\"2023-03-25T09:27:26Z\">Mar 25</time></span><br/><span class=\"company\">Full-Time</span><span>/</span><span class=\"region company\">Anywhere in the World</span></a></li><li class=\"view-all\"><a href=\"/categories/remote-full-stack-programming-jobs\">View all 65 Full-Stack Programming jobs</a></li></ul></article></section>, <section class=\"jobs\" id=\"category-18\"><article><h2><a href=\"/categories/remote-back-end-programming-jobs\">Back-End Programming Jobs</a><span class=\"latest_post\">Latest post 6 days ago</span><a href=\"/categories/remote-back-end-programming-jobs.rss\"><img class=\"feed\" height=\"16\" src=\"https://weworkremotely.com/assets/rss-feed-bac611a39b717b45766a28c96e549e1879df2786844a54f9c888ed89d64891a7.svg\" width=\"16\"/></a></h2><ul><section class=\"content-wrap\" id=\"desktop-digest\"><div class=\"inline_signup1\"><div class=\"errors1\"></div><form accept-charset=\"UTF-8\" action=\"/digest\" class=\"inline\" data-remote=\"true\" id=\"email-subscription-form\" method=\"post\"><input name=\"form\" type=\"hidden\" value=\"1\"/><div class=\"inline-email-subscription-main\"> Get new <button class=\"inline-categories-toggle\" name=\"button\" type=\"button\">Back-End Programming</button> listings sent to <input id=\"digest_subscription_email\" name=\"digest_subscription[email]\" placeholder=\"you@youremail.com\" type=\"email\"/> every day! <input class=\"inline\" data-disable-with=\"Subscribe\" name=\"commit\" type=\"submit\" value=\"Subscribe\"/></div><div class=\"email-subscription-categories\"><label><input data-label=\"Design\" id=\"categories_\" name=\"categories[]\" type=\"checkbox\" value=\"1\"/><span>Design</span></label><label><input data-label=\"Full-Stack Programming\" id=\"categories_\" name=\"categories[]\" type=\"checkbox\" value=\"2\"/><span>Full-Stack Programming</span></label><label><input data-label=\"Front-End Programming\" id=\"categories_\" name=\"categories[]\" type=\"checkbox\" value=\"17\"/><span>Front-End Programming</span></label><label><input checked=\"\" data-label=\"Back-End Programming\" id=\"categories_\" name=\"categories[]\" type=\"checkbox\" value=\"18\"/><span>Back-End Programming</span></label><label><input data-label=\"Customer Support\" id=\"categories_\" name=\"categories[]\" type=\"checkbox\" value=\"7\"/><span>Customer Support</span></label><label><input data-label=\"DevOps and Sysadmin\" id=\"categories_\" name=\"categories[]\" type=\"checkbox\" value=\"6\"/><span>DevOps and Sysadmin</span></label><label><input data-label=\"Sales and Marketing\" id=\"categories_\" name=\"categories[]\" type=\"checkbox\" value=\"9\"/><span>Sales and Marketing</span></label><label><input data-label=\"Management and Finance\" id=\"categories_\" name=\"categories[]\" type=\"checkbox\" value=\"3\"/><span>Management and Finance</span></label><label><input data-label=\"Product\" id=\"categories_\" name=\"categories[]\" type=\"checkbox\" value=\"11\"/><span>Product</span></label><label><input data-label=\"All Other Remote\" id=\"categories_\" name=\"categories[]\" type=\"checkbox\" value=\"4\"/><span>All Other Remote</span></label></div></form></div></section><li class=\"feature\"><div class=\"highlight-bar\"></div><div class=\"tooltip\"><a href=\"/company/close\"><div alt=\"Close is hiring a remote Software Engineer - Backend/Python (100% Remote) at We Work Remotely.\" class=\"flag-logo\" loading=\"lazy\" style=\"background-image:url(https://we-work-remotely.imgix.net/logos/0064/4683/logo.gif?ixlib=rails-4.0.0&amp;w=50&amp;h=50&amp;dpr=2&amp;fit=fill&amp;auto=compress)\"></div><span class=\"tooltiptext\">View Company Profile</span></a></div><a href=\"/remote-jobs/close-software-engineer-backend-python-100-remote-2\"><span class=\"company\">Close</span><object><a href=\"/top-remote-companies\" style=\"display: inline-block;\"><span class=\"listing-pill\" style=\"background: #dde0f4;\">Top 100</span></a></object><br/><span class=\"title\">Software Engineer - Backend/Python (100% Remote)</span><span class=\"featured\">featured</span><br/><span class=\"company\">Full-Time</span><span>/</span><span class=\"region company\">USA Only/Latin America Only/Europe Only</span></a></li><li class=\"feature\"><div class=\"highlight-bar\"></div><div class=\"tooltip\"><a href=\"/company/onthegosystems\"><div alt=\"OnTheGoSystems is hiring a remote Senior Software Engineer – RoR / React / Python at We Work Remotely.\" class=\"flag-logo\" loading=\"lazy\" style=\"background-image:url(https://we-work-remotely.imgix.net/logos/0076/2990/logo.gif?ixlib=rails-4.0.0&amp;w=50&amp;h=50&amp;dpr=2&amp;fit=fill&amp;auto=compress)\"></div><span class=\"tooltiptext\">View Company Profile</span></a></div><a href=\"/remote-jobs/onthegosystems-senior-software-engineer-ror-react-python\"><span class=\"company\">OnTheGoSystems</span><object><a href=\"/top-remote-companies\" style=\"display: inline-block;\"><span class=\"listing-pill\" style=\"background: #dde0f4;\">Top 100</span></a></object><br/><span class=\"title\">Senior Software Engineer – RoR / React / Python</span><span class=\"date\"><time data-format=\"%b %e\" data-local=\"time\" datetime=\"2023-03-17T12:40:27Z\">Mar 17</time></span><br/><span class=\"company\">Full-Time</span><span>/</span><span class=\"region company\">Europe Only/UK Only</span></a></li><li class=\"feature\"><div class=\"highlight-bar\"></div><div class=\"tooltip\"><a href=\"/company/testgorilla\"><div alt=\"TestGorilla is hiring a remote Senior Backend Engineer (Python) at We Work Remotely.\" class=\"flag-logo\" loading=\"lazy\" style=\"background-image:url(https://we-work-remotely.imgix.net/logos/0064/6248/logo.gif?ixlib=rails-4.0.0&amp;w=50&amp;h=50&amp;dpr=2&amp;fit=fill&amp;auto=compress)\"></div><span class=\"tooltiptext\">View Company Profile</span></a></div><a href=\"/remote-jobs/testgorilla-senior-backend-engineer-python-10\"><span class=\"company\">TestGorilla</span><object><a href=\"/top-remote-companies\" style=\"display: inline-block;\"><span class=\"listing-pill\" style=\"background: #dde0f4;\">Top 100</span></a></object><br/><span class=\"title\">Senior Backend Engineer (Python)</span><span class=\"date\"><time data-format=\"%b %e\" data-local=\"time\" datetime=\"2023-03-14T02:03:58Z\">Mar 14</time></span><br/><span class=\"company\">Full-Time</span><span>/</span><span class=\"region company\">Anywhere in the World</span></a></li><li class=\"view-all\"><a href=\"/categories/remote-back-end-programming-jobs\">View all 32 Back-End Programming jobs</a></li></ul></article></section>, <section class=\"jobs\" id=\"category-4\"><article><h2><a href=\"/categories/all-other-remote-jobs\">All Other Remote Jobs</a><span class=\"latest_post\">Latest post 7 days ago</span><a href=\"/categories/all-other-remote-jobs.rss\"><img class=\"feed\" height=\"16\" src=\"https://weworkremotely.com/assets/rss-feed-bac611a39b717b45766a28c96e549e1879df2786844a54f9c888ed89d64891a7.svg\" width=\"16\"/></a></h2><ul><section class=\"content-wrap\" id=\"desktop-digest\"><div class=\"inline_signup2\"><div class=\"errors2\"></div><form accept-charset=\"UTF-8\" action=\"/digest\" class=\"inline\" data-remote=\"true\" id=\"email-subscription-form\" method=\"post\"><input name=\"form\" type=\"hidden\" value=\"2\"/><div class=\"inline-email-subscription-main\"> Get new <button class=\"inline-categories-toggle\" name=\"button\" type=\"button\">All Other Remote</button> listings sent to <input id=\"digest_subscription_email\" name=\"digest_subscription[email]\" placeholder=\"you@youremail.com\" type=\"email\"/> every day! <input class=\"inline\" data-disable-with=\"Subscribe\" name=\"commit\" type=\"submit\" value=\"Subscribe\"/></div><div class=\"email-subscription-categories\"><label><input data-label=\"Design\" id=\"categories_\" name=\"categories[]\" type=\"checkbox\" value=\"1\"/><span>Design</span></label><label><input data-label=\"Full-Stack Programming\" id=\"categories_\" name=\"categories[]\" type=\"checkbox\" value=\"2\"/><span>Full-Stack Programming</span></label><label><input data-label=\"Front-End Programming\" id=\"categories_\" name=\"categories[]\" type=\"checkbox\" value=\"17\"/><span>Front-End Programming</span></label><label><input data-label=\"Back-End Programming\" id=\"categories_\" name=\"categories[]\" type=\"checkbox\" value=\"18\"/><span>Back-End Programming</span></label><label><input data-label=\"Customer Support\" id=\"categories_\" name=\"categories[]\" type=\"checkbox\" value=\"7\"/><span>Customer Support</span></label><label><input data-label=\"DevOps and Sysadmin\" id=\"categories_\" name=\"categories[]\" type=\"checkbox\" value=\"6\"/><span>DevOps and Sysadmin</span></label><label><input data-label=\"Sales and Marketing\" id=\"categories_\" name=\"categories[]\" type=\"checkbox\" value=\"9\"/><span>Sales and Marketing</span></label><label><input data-label=\"Management and Finance\" id=\"categories_\" name=\"categories[]\" type=\"checkbox\" value=\"3\"/><span>Management and Finance</span></label><label><input data-label=\"Product\" id=\"categories_\" name=\"categories[]\" type=\"checkbox\" value=\"11\"/><span>Product</span></label><label><input checked=\"\" data-label=\"All Other Remote\" id=\"categories_\" name=\"categories[]\" type=\"checkbox\" value=\"4\"/><span>All Other Remote</span></label></div></form></div></section><li class=\"\"><div class=\"\"></div><div class=\"tooltip\"><a href=\"/company/xm\"><span class=\"tooltiptext\">View Company Profile</span></a></div><a href=\"/remote-jobs/xm-software-engineer-in-test-python-cyprus-greece-or-remote-3\"><span class=\"company\">XM</span><object><a href=\"/top-remote-companies\" style=\"display: inline-block;\"><span class=\"listing-pill\" style=\"background: #dde0f4;\">Top 100</span></a></object><br/><span class=\"title\">Software Engineer in Test – Python – Cyprus, Greece or Remote </span><span class=\"date\"><time data-format=\"%b %e\" data-local=\"time\" datetime=\"2023-04-03T07:47:07Z\">Apr 3</time></span><br/><span class=\"company\">Full-Time</span><span>/</span><span class=\"region company\">Anywhere in the World</span></a></li><li class=\"view-all\"><a href=\"/categories/all-other-remote-jobs\">View all 59 All Other Remote jobs</a></li></ul></article></section>]\n"
     ]
    }
   ],
   "source": [
    "from requests import get\n",
    "from bs4 import BeautifulSoup\n",
    "\n",
    "base_url =\"https://weworkremotely.com/remote-jobs/search?term=\"\n",
    "search_term =\"python\"\n",
    "\n",
    "response= get(f\"{base_url}{search_term}\")\n",
    "if response.status_code != 200:\n",
    "    print(\"can't\")\n",
    "else:\n",
    "    soup = BeautifulSoup(response.text,\"html.parser\")\n",
    "    print(soup.find_all('section',class_=\"jobs\"))"
   ]
  },
  {
   "cell_type": "code",
   "execution_count": null,
   "metadata": {},
   "outputs": [],
   "source": []
  }
 ],
 "metadata": {
  "kernelspec": {
   "display_name": "base",
   "language": "python",
   "name": "python3"
  },
  "language_info": {
   "codemirror_mode": {
    "name": "ipython",
    "version": 3
   },
   "file_extension": ".py",
   "mimetype": "text/x-python",
   "name": "python",
   "nbconvert_exporter": "python",
   "pygments_lexer": "ipython3",
   "version": "3.10.9"
  },
  "orig_nbformat": 4
 },
 "nbformat": 4,
 "nbformat_minor": 2
}
