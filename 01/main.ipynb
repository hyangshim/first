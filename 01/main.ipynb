{
 "cells": [
  {
   "cell_type": "code",
   "execution_count": 3,
   "metadata": {},
   "outputs": [
    {
     "name": "stdout",
     "output_type": "stream",
     "text": [
      "7 -3 10 0.4 32\n"
     ]
    }
   ],
   "source": [
    "def plus(a=0,b=0):\n",
    "    print(a+b,a-b,a*b,a/b,a**b)\n",
    "\n",
    "plus(2,5)\n"
   ]
  },
  {
   "cell_type": "code",
   "execution_count": 2,
   "metadata": {},
   "outputs": [
    {
     "name": "stdout",
     "output_type": "stream",
     "text": [
      "사랑+쥬+얼+설\n"
     ]
    }
   ],
   "source": [
    "def make_juice(fruit):\n",
    "    return f\"{fruit}+쥬\"\n",
    "def add_ice(juice):\n",
    "    return f\"{juice}+얼\"\n",
    "def add_sugar(iced_juice):\n",
    "    return f\"{iced_juice}+설\"\n",
    "juice =make_juice('사랑')\n",
    "cold_juice = add_ice(juice)\n",
    "perfect_juice = add_sugar(cold_juice)\n",
    "\n",
    "print(perfect_juice)"
   ]
  },
  {
   "cell_type": "code",
   "execution_count": 3,
   "metadata": {},
   "outputs": [
    {
     "name": "stdout",
     "output_type": "stream",
     "text": [
      "lower computer chose 1\n"
     ]
    }
   ],
   "source": [
    "import random\n",
    "user_choice =int(input(\"선택\"))\n",
    "pc_choice= random.randint(1,50)\n",
    "\n",
    "if user_choice ==pc_choice:\n",
    "    print(\"You won\")\n",
    "    playing = False\n",
    "elif user_choice > pc_choice:\n",
    "    print(\"lower computer chose\",pc_choice)\n",
    "elif user_choice < pc_choice:\n",
    "    print(\"highe omputer chose\",pc_choice)\n"
   ]
  },
  {
   "cell_type": "code",
   "execution_count": 2,
   "metadata": {},
   "outputs": [
    {
     "name": "stdout",
     "output_type": "stream",
     "text": [
      "welcome to python casino\n",
      "lower \n",
      "lower \n",
      "highe\n",
      "lower \n",
      "lower \n",
      "lower \n",
      "lower \n",
      "You won\n"
     ]
    }
   ],
   "source": [
    "import random\n",
    "print(\"welcome to python casino 1-50\")\n",
    "pc_choice= random.randint(1,50)\n",
    "playing =True\n",
    "\n",
    "while playing :\n",
    "    user_choice =int(input(\"선택\"))\n",
    "    if user_choice ==pc_choice:\n",
    "        print(\"You won\")\n",
    "        playing = False\n",
    "    elif user_choice > pc_choice:\n",
    "        print(\"lower \")\n",
    "    elif user_choice < pc_choice:\n",
    "        print(\"highe\")"
   ]
  },
  {
   "cell_type": "code",
   "execution_count": 4,
   "metadata": {},
   "outputs": [
    {
     "name": "stdout",
     "output_type": "stream",
     "text": [
      "['Mon', 'Tue', 'sed', 'Thu', 'Fri', '하']\n"
     ]
    }
   ],
   "source": [
    "days_of_week =[\"Mon\",\"Tue\",\"sed\",\"Thu\",\"Fri\"]\n",
    "days_of_week.append(\"하\")\n",
    "print(days_of_week)\n"
   ]
  },
  {
   "cell_type": "code",
   "execution_count": 8,
   "metadata": {},
   "outputs": [
    {
     "name": "stdout",
     "output_type": "stream",
     "text": [
      "{'name': 'nico', 'age': 12, 'alive': True, 'fav_food': ['🍟', '🌮'], 'xp': 15000}\n",
      "['🍟', '🌮']\n"
     ]
    }
   ],
   "source": [
    "player ={\n",
    "    'name':'nico',\n",
    "    'age':12,\n",
    "    'alive':True,\n",
    "    'fav_food':[\"🍟\",\"🌮\"]\n",
    "}\n",
    "player['xp']=15000\n",
    "print(player)\n",
    "print(player.get('fav_food'))"
   ]
  },
  {
   "cell_type": "code",
   "execution_count": 10,
   "metadata": {},
   "outputs": [
    {
     "name": "stdout",
     "output_type": "stream",
     "text": [
      "['🍟', '🌮', '🍠']\n",
      "['🍟', '🌮', '🍠']\n"
     ]
    }
   ],
   "source": [
    "player ={\n",
    "    'name':'nico',\n",
    "    'age':12,\n",
    "    'alive':True,\n",
    "    'fav_food':[\"🍟\",\"🌮\"]\n",
    "}\n",
    "player['fav_food'].append(\"🍠\")\n",
    "print(player.get('fav_food'))\n",
    "print(player['fav_food'])"
   ]
  },
  {
   "cell_type": "code",
   "execution_count": 14,
   "metadata": {},
   "outputs": [
    {
     "name": "stdout",
     "output_type": "stream",
     "text": [
      "we have to fix it\n",
      "good to go\n",
      "we have to fix it\n",
      "good to go\n"
     ]
    }
   ],
   "source": [
    "wedbsites=(\n",
    "    \"google.com\",\n",
    "    \"https://airbnb.com\",\n",
    "    \"twitter.com\",\n",
    "    \"https://facebook.com\"\n",
    ")\n",
    "for wedbsite in wedbsites:\n",
    "    if wedbsite.startswith(\"https://\"):\n",
    "        print(\"good to go\")\n",
    "    else:\n",
    "        print(\"we have to fix it\")\n",
    "  "
   ]
  },
  {
   "cell_type": "code",
   "execution_count": 15,
   "metadata": {},
   "outputs": [
    {
     "name": "stdout",
     "output_type": "stream",
     "text": [
      "have to fix\n",
      "have to fix\n"
     ]
    }
   ],
   "source": [
    "wedbsites=(\n",
    "    \"google.com\",\n",
    "    \"https://airbnb.com\",\n",
    "    \"twitter.com\",\n",
    "    \"https://facebook.com\"\n",
    ")\n",
    "for wedbsite in wedbsites:\n",
    "    if  not wedbsite.startswith(\"https://\"):\n",
    "        print(\"have to fix\")\n",
    "    "
   ]
  },
  {
   "cell_type": "code",
   "execution_count": 17,
   "metadata": {},
   "outputs": [
    {
     "name": "stdout",
     "output_type": "stream",
     "text": [
      "https://google.com\n",
      "https://airbnb.com\n",
      "https://twitter.com\n",
      "https://facebook.com\n"
     ]
    }
   ],
   "source": [
    "wedbsites=(\n",
    "    \"google.com\",\n",
    "    \"https://airbnb.com\",\n",
    "    \"twitter.com\",\n",
    "    \"https://facebook.com\"\n",
    ")\n",
    "for wedbsite in wedbsites:\n",
    "    if  not wedbsite.startswith(\"https://\"):  # https:// 시작하지 않으면 True 밑에 코드가 실행\n",
    "       wedbsite = f\"https://{wedbsite}\"       #wedbsite 변수는 이제 https://를 붙인 값으로 업데이트해줘\n",
    "    print(wedbsite)"
   ]
  },
  {
   "cell_type": "code",
   "execution_count": null,
   "metadata": {},
   "outputs": [],
   "source": []
  }
 ],
 "metadata": {
  "kernelspec": {
   "display_name": "base",
   "language": "python",
   "name": "python3"
  },
  "language_info": {
   "codemirror_mode": {
    "name": "ipython",
    "version": 3
   },
   "file_extension": ".py",
   "mimetype": "text/x-python",
   "name": "python",
   "nbconvert_exporter": "python",
   "pygments_lexer": "ipython3",
   "version": "3.10.9"
  },
  "orig_nbformat": 4
 },
 "nbformat": 4,
 "nbformat_minor": 2
}
