{
 "cells": [
  {
   "cell_type": "code",
   "execution_count": 1,
   "metadata": {},
   "outputs": [
    {
     "name": "stdout",
     "output_type": "stream",
     "text": [
      "7 -3 10 0.4 32\n"
     ]
    }
   ],
   "source": [
    "def plus(a=0,b=0):\n",
    "    print(a+b,a-b,a*b,a/b,a**b)\n",
    "\n",
    "plus(2,5)\n"
   ]
  },
  {
   "cell_type": "code",
   "execution_count": 2,
   "metadata": {},
   "outputs": [
    {
     "name": "stdout",
     "output_type": "stream",
     "text": [
      "사랑+쥬+얼+설\n"
     ]
    }
   ],
   "source": [
    "def make_juice(fruit):\n",
    "    return f\"{fruit}+쥬\"\n",
    "def add_ice(juice):\n",
    "    return f\"{juice}+얼\"\n",
    "def add_sugar(iced_juice):\n",
    "    return f\"{iced_juice}+설\"\n",
    "juice =make_juice('사랑')\n",
    "cold_juice = add_ice(juice)\n",
    "perfect_juice = add_sugar(cold_juice)\n",
    "\n",
    "print(perfect_juice)"
   ]
  },
  {
   "cell_type": "code",
   "execution_count": 3,
   "metadata": {},
   "outputs": [
    {
     "name": "stdout",
     "output_type": "stream",
     "text": [
      "highe omputer chose 15\n"
     ]
    }
   ],
   "source": [
    "import random\n",
    "user_choice =int(input(\"선택\"))\n",
    "pc_choice= random.randint(1,50)\n",
    "\n",
    "if user_choice ==pc_choice:\n",
    "    print(\"You won\")\n",
    "    playing = False\n",
    "elif user_choice > pc_choice:\n",
    "    print(\"lower computer chose\",pc_choice)\n",
    "elif user_choice < pc_choice:\n",
    "    print(\"highe omputer chose\",pc_choice)\n"
   ]
  },
  {
   "cell_type": "code",
   "execution_count": 4,
   "metadata": {},
   "outputs": [
    {
     "name": "stdout",
     "output_type": "stream",
     "text": [
      "welcome to python casino 1-50\n"
     ]
    },
    {
     "ename": "ValueError",
     "evalue": "invalid literal for int() with base 10: '1 1'",
     "output_type": "error",
     "traceback": [
      "\u001b[1;31m---------------------------------------------------------------------------\u001b[0m",
      "\u001b[1;31mValueError\u001b[0m                                Traceback (most recent call last)",
      "Cell \u001b[1;32mIn[4], line 7\u001b[0m\n\u001b[0;32m      4\u001b[0m playing \u001b[39m=\u001b[39m\u001b[39mTrue\u001b[39;00m\n\u001b[0;32m      6\u001b[0m \u001b[39mwhile\u001b[39;00m playing :\n\u001b[1;32m----> 7\u001b[0m     user_choice \u001b[39m=\u001b[39m\u001b[39mint\u001b[39;49m(\u001b[39minput\u001b[39;49m(\u001b[39m\"\u001b[39;49m\u001b[39m선택\u001b[39;49m\u001b[39m\"\u001b[39;49m))\n\u001b[0;32m      8\u001b[0m     \u001b[39mif\u001b[39;00m user_choice \u001b[39m==\u001b[39mpc_choice:\n\u001b[0;32m      9\u001b[0m         \u001b[39mprint\u001b[39m(\u001b[39m\"\u001b[39m\u001b[39mYou won\u001b[39m\u001b[39m\"\u001b[39m)\n",
      "\u001b[1;31mValueError\u001b[0m: invalid literal for int() with base 10: '1 1'"
     ]
    }
   ],
   "source": [
    "import random\n",
    "print(\"welcome to python casino 1-50\")\n",
    "pc_choice= random.randint(1,50)\n",
    "playing =True\n",
    "\n",
    "while playing :\n",
    "    user_choice =int(input(\"선택\"))\n",
    "    if user_choice ==pc_choice:\n",
    "        print(\"You won\")\n",
    "        playing = False\n",
    "    elif user_choice > pc_choice:\n",
    "        print(\"lower \")\n",
    "    elif user_choice < pc_choice:\n",
    "        print(\"highe\")"
   ]
  },
  {
   "cell_type": "code",
   "execution_count": null,
   "metadata": {},
   "outputs": [
    {
     "name": "stdout",
     "output_type": "stream",
     "text": [
      "['Mon', 'Tue', 'sed', 'Thu', 'Fri', '하']\n"
     ]
    }
   ],
   "source": [
    "days_of_week =[\"Mon\",\"Tue\",\"sed\",\"Thu\",\"Fri\"]\n",
    "days_of_week.append(\"하\")\n",
    "print(days_of_week)\n"
   ]
  },
  {
   "cell_type": "code",
   "execution_count": null,
   "metadata": {},
   "outputs": [
    {
     "name": "stdout",
     "output_type": "stream",
     "text": [
      "{'name': 'nico', 'age': 12, 'alive': True, 'fav_food': ['🍟', '🌮'], 'xp': 15000}\n",
      "['🍟', '🌮']\n"
     ]
    }
   ],
   "source": [
    "player ={\n",
    "    'name':'nico',\n",
    "    'age':12,\n",
    "    'alive':True,\n",
    "    'fav_food':[\"🍟\",\"🌮\"]\n",
    "}\n",
    "player['xp']=15000\n",
    "print(player)\n",
    "print(player.get('fav_food'))"
   ]
  },
  {
   "cell_type": "code",
   "execution_count": null,
   "metadata": {},
   "outputs": [
    {
     "name": "stdout",
     "output_type": "stream",
     "text": [
      "['🍟', '🌮', '🍠']\n",
      "['🍟', '🌮', '🍠']\n"
     ]
    }
   ],
   "source": [
    "player ={\n",
    "    'name':'nico',\n",
    "    'age':12,\n",
    "    'alive':True,\n",
    "    'fav_food':[\"🍟\",\"🌮\"]\n",
    "}\n",
    "player['fav_food'].append(\"🍠\")\n",
    "print(player.get('fav_food'))\n",
    "print(player['fav_food'])"
   ]
  },
  {
   "cell_type": "code",
   "execution_count": null,
   "metadata": {},
   "outputs": [
    {
     "name": "stdout",
     "output_type": "stream",
     "text": [
      "we have to fix it\n",
      "good to go\n",
      "we have to fix it\n",
      "good to go\n"
     ]
    }
   ],
   "source": [
    "wedbsites=(\n",
    "    \"google.com\",\n",
    "    \"https://airbnb.com\",\n",
    "    \"twitter.com\",\n",
    "    \"https://facebook.com\"\n",
    ")\n",
    "for wedbsite in wedbsites:\n",
    "    if wedbsite.startswith(\"https://\"):\n",
    "        print(\"good to go\")\n",
    "    else:\n",
    "        print(\"we have to fix it\")\n",
    "  "
   ]
  },
  {
   "cell_type": "code",
   "execution_count": null,
   "metadata": {},
   "outputs": [
    {
     "name": "stdout",
     "output_type": "stream",
     "text": [
      "have to fix\n",
      "have to fix\n"
     ]
    }
   ],
   "source": [
    "wedbsites=(\n",
    "    \"google.com\",\n",
    "    \"https://airbnb.com\",\n",
    "    \"twitter.com\",\n",
    "    \"https://facebook.com\"\n",
    ")\n",
    "for wedbsite in wedbsites:\n",
    "    if  not wedbsite.startswith(\"https://\"):\n",
    "        print(\"have to fix\")\n",
    "    "
   ]
  },
  {
   "cell_type": "code",
   "execution_count": null,
   "metadata": {},
   "outputs": [
    {
     "name": "stdout",
     "output_type": "stream",
     "text": [
      "https://google.com\n",
      "https://airbnb.com\n",
      "https://twitter.com\n",
      "https://facebook.com\n"
     ]
    }
   ],
   "source": [
    "from requests import get\n",
    "\n",
    "wedbsites=(\n",
    "    \"google.com\",\n",
    "    \"https://airbnb.com\",\n",
    "    \"twitter.com\",\n",
    "    \"https://facebook.com\"\n",
    ")\n",
    "for wedbsite in wedbsites:\n",
    "    if  not wedbsite.startswith(\"https://\"):  # https:// 시작하지 않으면 True 밑에 코드가 실행\n",
    "       wedbsite = f\"https://{wedbsite}\"       #wedbsite 변수는 이제 https://를 붙인 값으로 업데이트해줘\n",
    "    print(wedbsite)"
   ]
  },
  {
   "cell_type": "code",
   "execution_count": null,
   "metadata": {},
   "outputs": [
    {
     "name": "stdout",
     "output_type": "stream",
     "text": [
      "{'https://google.com/502': '클라이언트 오류 응답  ', 'https://airbnb.com/404': 'ok', 'https://twitter.com/345': 'ok', 'https://facebook.com//99': 'ok'}\n"
     ]
    }
   ],
   "source": [
    "from requests import get\n",
    "wedbsites=(\n",
    "    \"google.com/502\",\n",
    "    \"https://airbnb.com/404\",\n",
    "    \"twitter.com/345\",\n",
    "    \"https://facebook.com//199\"\n",
    ")\n",
    "results = {}\n",
    "for wedbsite in wedbsites:\n",
    "   \n",
    "    if  not wedbsite.startswith(\"https://\"):  # https:// 시작하지 않으면 True 밑에 코드가 실행\n",
    "       wedbsite = f\"https://{wedbsite}\"       #wedbsite 변수는 이제 https://를 붙인 값으로 업데이트해줘\n",
    "    response = get(wedbsite)\n",
    "    if response.status_code <=199:\n",
    "         results [wedbsite] =\"정보응답  \"\n",
    "    elif response.status_code <= 299:\n",
    "        results [wedbsite] =\"ok\"\n",
    "    elif response.status_code <=399:\n",
    "         results [wedbsite] =\"리디렉션 메시지 \"\n",
    "    elif response.status_code <=499:\n",
    "         results [wedbsite] =\"클라이언트 오류 응답  \"\n",
    "    else:\n",
    "        results [wedbsite] =\"서버 오류 응답 \"\n",
    "print(results)"
   ]
  },
  {
   "cell_type": "code",
   "execution_count": null,
   "metadata": {},
   "outputs": [
    {
     "name": "stdout",
     "output_type": "stream",
     "text": [
      "Contra Contract Anywhere in the World Freelance Python Developer and AWS Manager at Easy Energy Inc\n",
      "RemoteMore Full-Time Americas Only/Europe Only/Africa Only Python Developer\n",
      "Shake Full-Time Anywhere in the World Senior Python Engineer\n",
      "OpenCraft Full-Time Anywhere in the World Senior Open Source Developer & DevOps (Python, Django, React, AWS/OpenStack)\n",
      "Proxify AB Full-Time Anywhere in the World Senior Python Engineer: Long-term job - 100% remote\n",
      "OnTheGoSystems Full-Time Anywhere in the World Senior Software Engineer – RoR / React / Python\n",
      "Close Full-Time USA Only Senior/Staff Software Engineer - Backend/Python - USA (100% Remote)\n",
      "Close Full-Time Latin America Only/Europe Only/Africa Only Software Engineer - Backend/Python (100% Remote)\n",
      "XM Full-Time Anywhere in the World Software Engineer in Test – Python – Cyprus, Greece or Remote \n",
      "{'link': 'https://weworkremotely.com/remote-jobs/contra-freelance-python-developer-and-aws-manager-at-easy-energy-inc', 'company': 'Contra', 'region': 'Anywhere in the World', 'position': 'Freelance Python Developer and AWS Manager at Easy Energy Inc'}\n",
      "////////\n",
      "{'link': 'https://weworkremotely.com/remote-jobs/remotemore-python-developer-6', 'company': 'RemoteMore', 'region': 'Americas Only/Europe Only/Africa Only', 'position': 'Python Developer'}\n",
      "////////\n",
      "{'link': 'https://weworkremotely.com/remote-jobs/shake-senior-python-engineer-1', 'company': 'Shake', 'region': 'Anywhere in the World', 'position': 'Senior Python Engineer'}\n",
      "////////\n",
      "{'link': 'https://weworkremotely.com/remote-jobs/opencraft-senior-open-source-developer-devops-python-django-react-aws-openstack', 'company': 'OpenCraft', 'region': 'Anywhere in the World', 'position': 'Senior Open Source Developer & DevOps (Python, Django, React, AWS/OpenStack)'}\n",
      "////////\n",
      "{'link': 'https://weworkremotely.com/remote-jobs/proxify-ab-senior-python-engineer-long-term-job-100-remote', 'company': 'Proxify AB', 'region': 'Anywhere in the World', 'position': 'Senior Python Engineer: Long-term job - 100% remote'}\n",
      "////////\n",
      "{'link': 'https://weworkremotely.com/remote-jobs/onthegosystems-senior-software-engineer-ror-react-python-1', 'company': 'OnTheGoSystems', 'region': 'Anywhere in the World', 'position': 'Senior Software Engineer – RoR / React / Python'}\n",
      "////////\n",
      "{'link': 'https://weworkremotely.com/remote-jobs/close-senior-staff-software-engineer-backend-python-usa-100-remote', 'company': 'Close', 'region': 'USA Only', 'position': 'Senior/Staff Software Engineer - Backend/Python - USA (100% Remote)'}\n",
      "////////\n",
      "{'link': 'https://weworkremotely.com/remote-jobs/close-software-engineer-backend-python-100-remote-2', 'company': 'Close', 'region': 'Latin America Only/Europe Only/Africa Only', 'position': 'Software Engineer - Backend/Python (100% Remote)'}\n",
      "////////\n",
      "{'link': 'https://weworkremotely.com/remote-jobs/xm-software-engineer-in-test-python-cyprus-greece-or-remote-3', 'company': 'XM', 'region': 'Anywhere in the World', 'position': 'Software Engineer in Test – Python – Cyprus, Greece or Remote '}\n",
      "////////\n"
     ]
    }
   ],
   "source": [
    "from requests import get\n",
    "from bs4 import BeautifulSoup\n",
    "\n",
    "base_url =\"https://weworkremotely.com/remote-jobs/search?term=\"\n",
    "search_term =\"python\"\n",
    "\n",
    "response= get(f\"{base_url}{search_term}\")\n",
    "if response.status_code != 200:\n",
    "    print(\"can't\")\n",
    "else:\n",
    "    results = []\n",
    "    soup = BeautifulSoup(response.text,\"html.parser\")\n",
    "    jobs=soup.find_all('section',class_=\"jobs\")\n",
    "    for job_section in jobs:\n",
    "       job_posts= job_section.find_all('li')\n",
    "       job_posts.pop(-1)\n",
    "       for post in job_posts:\n",
    "            anchors =post.find_all('a')\n",
    "            anchor = anchors[1]\n",
    "            link = anchor['href']\n",
    "            company,kind,region= anchor.find_all('span',class_='company')\n",
    "            title=anchor.find('span',class_='title')\n",
    "            print(company.string,kind.string,region.string,title.string)\n",
    "            job_data = {\n",
    "                'link':f\"https://weworkremotely.com{link}\",\n",
    "                'company':company.string,\n",
    "                'region':region.string,\n",
    "                'position':title.string\n",
    "            }\n",
    "            results.append(job_data)\n",
    "    for result in results:\n",
    "        print(result)\n",
    "        print(\"////////\")"
   ]
  },
  {
   "cell_type": "code",
   "execution_count": 17,
   "metadata": {},
   "outputs": [
    {
     "name": "stdout",
     "output_type": "stream",
     "text": [
      "{'link': 'https://kr.indeed.com/rc/clk?jk=c0f5bd65530c46c7&fccid=76633e95a4dfd3e1&vjs=3', 'company': '새론솔루션', 'location': '경기도 의왕', 'position': '[경력] 프론트, 백엔드 개발자의 전체 세부 정보'} //////\n",
      "\n"
     ]
    }
   ],
   "source": [
    "from requests import get\n",
    "from bs4 import BeautifulSoup\n",
    "#selenium 는 브라우저을 자동화 할수있는 아주멋진 프로그램 사람인지 봇인지 구분을 뚫어주는 것\n",
    "from selenium import webdriver\n",
    "from selenium.webdriver.chrome.options import Options\n",
    "options =Options()\n",
    "options.add_argument('--no-sandbox')\n",
    "options.add_argument(\"--disable-dev-shm-usage\")\n",
    "\n",
    "browser = webdriver.Chrome(options=options)\n",
    "browser.get(\"https://kr.indeed.com/jobs?q=python&limit=50\")\n",
    "results = []\n",
    "soup = BeautifulSoup(browser.page_source, \"html.parser\")\n",
    "job_list = soup.find(\"ul\", class_=\"jobsearch-ResultsList\")\n",
    "jobs = job_list.find_all('li', recursive=False)\n",
    "\n",
    "for job in jobs:\n",
    "    zone = job.find(\"div\", class_=\"mosaic-zone\")\n",
    "    if zone == None:\n",
    "       anchor =job.select_one(\"h2 a\")\n",
    "       title =anchor['aria-label']\n",
    "       link = anchor['href']\n",
    "       company=job.find(\"span\",class_=\"companyName\")\n",
    "       location=job.find(\"div\",class_=\"companyLocation\")\n",
    "       job_data ={\n",
    "           'link':f\"https://kr.indeed.com{link}\",\n",
    "           \"company\":company.string,\n",
    "           'location':location.string,\n",
    "           'position':title\n",
    "       }\n",
    "    results.append(job_data)\n",
    "for result in results:\n",
    "    print(result,\"//////\\n\")"
   ]
  },
  {
   "attachments": {},
   "cell_type": "markdown",
   "metadata": {},
   "source": [
    "페이지 검색하기"
   ]
  },
  {
   "cell_type": "code",
   "execution_count": null,
   "metadata": {},
   "outputs": [],
   "source": [
    "from bs4 import BeautifulSoup\n",
    "from selenium import webdriver\n",
    "from selenium.webdriver.chrome.options import Options\n",
    "\n",
    "options = Options()\n",
    "options.add_argument(\"--no-sandbox\")\n",
    "options.add_argument(\"--disable-dev-shm-usage\")\n",
    "browser = webdriver.Chrome(options=options)\n",
    "\n",
    "def get_page_count(keyword):\n",
    "    base_url = \"https://kr.indeed.com/jobs?q=\"\n",
    "    browser.get(f\"{base_url}{keyword}\")\n",
    "    soup = BeautifulSoup(browser.page_source, \"html.parser\")\n",
    "    pagination = soup.find(\"nav\", class_=\"ecydgvn0\")\n",
    "    pages = pagination.find_all(\"div\", class_=\"ecydgvn1\")\n",
    "    if not pages:\n",
    "     t\n",
    "\n",
    "def extract_indeed_jobs(keyword):\n",
    "    pages = get_page_count(keyword)\n",
    "    print(\"Found\", pages, \"pages\")\n",
    "    results = []\n",
    "    for page in range(pages):\n",
    "        base_url = \"https://kr.indeed.com/jobs\"\n",
    "        final_url = f\"{base_url}?q={keyword}&start={page*10}\"\n",
    "    print(\"Requesting\", final_url)\n",
    "    browser.get(final_url)\n",
    "    soup = BeautifulSoup(browser.page_source, \"html.parser\")\n",
    "    job_list = soup.find(\"ul\",class_=\"jobsearch-ResultsList\")\n",
    "    jobs = job_list.find_all('li', recursive=False)\n",
    "for job in jobs:\n",
    "    zone = job.find(\"div\", class_=\"mosaic-zone\")\n",
    "    if zone == None:\n",
    "        anchor = job.select_one(\"h2 a\")\n",
    "        title = anchor['aria-label']\n",
    "        link = anchor['href']\n",
    "        company = job.find(\"span\",class_=\"companyName\")\n",
    "        location = job.find(\"div\", class_=\"companyLocation\")\n",
    "        job_data = {\n",
    "        'link':f\"https://kr.indeed.com{link}\",\n",
    "        'company':company.string,\n",
    "        'location':location.string,\n",
    "        'position':title\n",
    "        }\n",
    "results.append(job_data)\n",
    "return results\n",
    "\n",
    "jobs = extract_indeed_jobs(\"python\")\n",
    "#print(jobs)\n",
    "print(len(jobs))"
   ]
  }
 ],
 "metadata": {
  "kernelspec": {
   "display_name": "base",
   "language": "python",
   "name": "python3"
  },
  "language_info": {
   "codemirror_mode": {
    "name": "ipython",
    "version": 3
   },
   "file_extension": ".py",
   "mimetype": "text/x-python",
   "name": "python",
   "nbconvert_exporter": "python",
   "pygments_lexer": "ipython3",
   "version": "3.10.9"
  },
  "orig_nbformat": 4
 },
 "nbformat": 4,
 "nbformat_minor": 2
}
