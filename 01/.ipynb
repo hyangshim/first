{
 "cells": [
  {
   "cell_type": "code",
   "execution_count": 3,
   "metadata": {},
   "outputs": [
    {
     "name": "stdout",
     "output_type": "stream",
     "text": [
      "7 -3 10 0.4 32\n"
     ]
    }
   ],
   "source": [
    "def plus(a=0,b=0):\n",
    "    print(a+b,a-b,a*b,a/b,a**b)\n",
    "\n",
    "plus(2,5)\n"
   ]
  },
  {
   "cell_type": "code",
   "execution_count": 2,
   "metadata": {},
   "outputs": [
    {
     "name": "stdout",
     "output_type": "stream",
     "text": [
      "사랑+쥬+얼+설\n"
     ]
    }
   ],
   "source": [
    "def make_juice(fruit):\n",
    "    return f\"{fruit}+쥬\"\n",
    "def add_ice(juice):\n",
    "    return f\"{juice}+얼\"\n",
    "def add_sugar(iced_juice):\n",
    "    return f\"{iced_juice}+설\"\n",
    "juice =make_juice('사랑')\n",
    "cold_juice = add_ice(juice)\n",
    "perfect_juice = add_sugar(cold_juice)\n",
    "\n",
    "print(perfect_juice)"
   ]
  },
  {
   "cell_type": "code",
   "execution_count": 2,
   "metadata": {},
   "outputs": [
    {
     "name": "stdout",
     "output_type": "stream",
     "text": [
      "higher computer chose 49\n"
     ]
    }
   ],
   "source": [
    "import random\n",
    "user_choice =int(input(\"선택\"))\n",
    "pc_choice= random.randint(1,50)\n",
    "\n",
    "if user_choice ==pc_choice:\n",
    "    print(\"You won\")\n",
    "elif user_choice > pc_choice:\n",
    "    print(\"lower ! computer chose\",pc_choice)\n",
    "elif user_choice < pc_choice:\n",
    "    print(\"higher computer chose\",pc_choice)"
   ]
  },
  {
   "cell_type": "code",
   "execution_count": null,
   "metadata": {},
   "outputs": [],
   "source": []
  },
  {
   "cell_type": "code",
   "execution_count": null,
   "metadata": {},
   "outputs": [],
   "source": [
    "\n"
   ]
  }
 ],
 "metadata": {
  "kernelspec": {
   "display_name": "base",
   "language": "python",
   "name": "python3"
  },
  "language_info": {
   "codemirror_mode": {
    "name": "ipython",
    "version": 3
   },
   "file_extension": ".py",
   "mimetype": "text/x-python",
   "name": "python",
   "nbconvert_exporter": "python",
   "pygments_lexer": "ipython3",
   "version": "3.10.9"
  },
  "orig_nbformat": 4
 },
 "nbformat": 4,
 "nbformat_minor": 2
}
