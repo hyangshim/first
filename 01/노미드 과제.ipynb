{
 "cells": [
  {
   "cell_type": "code",
   "execution_count": 1,
   "metadata": {},
   "outputs": [
    {
     "name": "stdout",
     "output_type": "stream",
     "text": [
      "Result:31\n",
      "Result:25\n"
     ]
    },
    {
     "ename": "ValueError",
     "evalue": "invalid literal for int() with base 10: 'exit'",
     "output_type": "error",
     "traceback": [
      "\u001b[1;31m---------------------------------------------------------------------------\u001b[0m",
      "\u001b[1;31mValueError\u001b[0m                                Traceback (most recent call last)",
      "Cell \u001b[1;32mIn[1], line 3\u001b[0m\n\u001b[0;32m      1\u001b[0m \u001b[39mimport\u001b[39;00m \u001b[39msys\u001b[39;00m\n\u001b[0;32m      2\u001b[0m \u001b[39mwhile\u001b[39;00m \u001b[39mTrue\u001b[39;00m:\n\u001b[1;32m----> 3\u001b[0m     choose_number\u001b[39m=\u001b[39m\u001b[39mint\u001b[39;49m(\u001b[39minput\u001b[39;49m())\n\u001b[0;32m      4\u001b[0m     choose_operation\u001b[39m=\u001b[39m\u001b[39minput\u001b[39m()\n\u001b[0;32m      5\u001b[0m     choose_another \u001b[39m=\u001b[39m \u001b[39mint\u001b[39m(\u001b[39minput\u001b[39m())\n",
      "\u001b[1;31mValueError\u001b[0m: invalid literal for int() with base 10: 'exit'"
     ]
    }
   ],
   "source": [
    "import sys\n",
    "while True:\n",
    "    choose_number=int(input())\n",
    "    choose_operation=input()\n",
    "    choose_another = int(input())\n",
    "\n",
    "    if choose_another =='exit'or choose_another == 'exit':\n",
    "        sys.exit()\n",
    "    elif choose_operation  == '+':\n",
    "        magic=choose_number+choose_another\n",
    "        print(f\"Result:{magic}\")\n",
    "    elif choose_operation  == '/':\n",
    "        magic=choose_number/choose_another\n",
    "        print(f\"Result:{magic}\")\n",
    "    elif choose_operation  == '-':\n",
    "        magic=choose_number-choose_another\n",
    "        print(f\"Result:{magic}\")\n",
    "    elif choose_operation  == '*':\n",
    "        magic=choose_number*choose_another\n",
    "        print(f\"Result:{magic}\")"
   ]
  },
  {
   "cell_type": "code",
   "execution_count": 2,
   "metadata": {},
   "outputs": [
    {
     "name": "stdout",
     "output_type": "stream",
     "text": [
      "136\n"
     ]
    }
   ],
   "source": [
    "numbers = [1, \"💖\", 2, \"🔥\", 3, \"⭐️\", 4, \"💖\", 5, \"🔥\", 6, \"⭐️\", 7, \"💖\", 8, \"🔥\", 9, \"⭐️\", 10, \"💖\", 11, \"🔥\", 12, \"⭐️\", 13, \"💖\", 14, \"🔥\", 15, \"⭐️\", 16]\n",
    "\n",
    "\n",
    "return_list = []\n",
    "\n",
    "for i in numbers:\n",
    "  if isinstance(i, int):\n",
    "    return_list.append(i)\n",
    "print(sum(return_list) )"
   ]
  },
  {
   "cell_type": "code",
   "execution_count": null,
   "metadata": {},
   "outputs": [],
   "source": []
  }
 ],
 "metadata": {
  "kernelspec": {
   "display_name": "base",
   "language": "python",
   "name": "python3"
  },
  "language_info": {
   "codemirror_mode": {
    "name": "ipython",
    "version": 3
   },
   "file_extension": ".py",
   "mimetype": "text/x-python",
   "name": "python",
   "nbconvert_exporter": "python",
   "pygments_lexer": "ipython3",
   "version": "3.10.9"
  },
  "orig_nbformat": 4
 },
 "nbformat": 4,
 "nbformat_minor": 2
}
