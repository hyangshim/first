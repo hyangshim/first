{
 "cells": [
  {
   "cell_type": "code",
   "execution_count": 1,
   "metadata": {},
   "outputs": [
    {
     "name": "stdout",
     "output_type": "stream",
     "text": [
      "Result:31\n",
      "Result:25\n"
     ]
    },
    {
     "ename": "ValueError",
     "evalue": "invalid literal for int() with base 10: 'exit'",
     "output_type": "error",
     "traceback": [
      "\u001b[1;31m---------------------------------------------------------------------------\u001b[0m",
      "\u001b[1;31mValueError\u001b[0m                                Traceback (most recent call last)",
      "Cell \u001b[1;32mIn[1], line 3\u001b[0m\n\u001b[0;32m      1\u001b[0m \u001b[39mimport\u001b[39;00m \u001b[39msys\u001b[39;00m\n\u001b[0;32m      2\u001b[0m \u001b[39mwhile\u001b[39;00m \u001b[39mTrue\u001b[39;00m:\n\u001b[1;32m----> 3\u001b[0m     choose_number\u001b[39m=\u001b[39m\u001b[39mint\u001b[39;49m(\u001b[39minput\u001b[39;49m())\n\u001b[0;32m      4\u001b[0m     choose_operation\u001b[39m=\u001b[39m\u001b[39minput\u001b[39m()\n\u001b[0;32m      5\u001b[0m     choose_another \u001b[39m=\u001b[39m \u001b[39mint\u001b[39m(\u001b[39minput\u001b[39m())\n",
      "\u001b[1;31mValueError\u001b[0m: invalid literal for int() with base 10: 'exit'"
     ]
    }
   ],
   "source": [
    "import sys\n",
    "while True:\n",
    "    choose_number=int(input())\n",
    "    choose_operation=input()\n",
    "    choose_another = int(input())\n",
    "\n",
    "    if choose_another =='exit'or choose_another == 'exit':\n",
    "        sys.exit()\n",
    "    elif choose_operation  == '+':\n",
    "        magic=choose_number+choose_another\n",
    "        print(f\"Result:{magic}\")\n",
    "    elif choose_operation  == '/':\n",
    "        magic=choose_number/choose_another\n",
    "        print(f\"Result:{magic}\")\n",
    "    elif choose_operation  == '-':\n",
    "        magic=choose_number-choose_another\n",
    "        print(f\"Result:{magic}\")\n",
    "    elif choose_operation  == '*':\n",
    "        magic=choose_number*choose_another\n",
    "        print(f\"Result:{magic}\")"
   ]
  },
  {
   "cell_type": "code",
   "execution_count": 2,
   "metadata": {},
   "outputs": [
    {
     "name": "stdout",
     "output_type": "stream",
     "text": [
      "136\n"
     ]
    }
   ],
   "source": [
    "numbers = [1, \"💖\", 2, \"🔥\", 3, \"⭐️\", 4, \"💖\", 5, \"🔥\", 6, \"⭐️\", 7, \"💖\", 8, \"🔥\", 9, \"⭐️\", 10, \"💖\", 11, \"🔥\", 12, \"⭐️\", 13, \"💖\", 14, \"🔥\", 15, \"⭐️\", 16]\n",
    "\n",
    "\n",
    "return_list = []\n",
    "\n",
    "for i in numbers:\n",
    "  if isinstance(i, int):\n",
    "    return_list.append(i)\n",
    "print(sum(return_list) )"
   ]
  },
  {
   "cell_type": "code",
   "execution_count": 1,
   "metadata": {},
   "outputs": [
    {
     "name": "stdout",
     "output_type": "stream",
     "text": [
      "136\n"
     ]
    }
   ],
   "source": [
    "numbers = [1, \"💖\", 2, \"🔥\", 3, \"⭐️\", 4, \"💖\", 5, \"🔥\", 6, \"⭐️\", 7, \"💖\", 8, \"🔥\", 9, \"⭐️\", 10, \"💖\", 11, \"🔥\", 12, \"⭐️\", 13, \"💖\", 14, \"🔥\", 15, \"⭐️\", 16]\n",
    "\n",
    "\n",
    "final = 0\n",
    "for item in numbers:\n",
    "  if type(item) is int:\n",
    "    \n",
    "    final += item\n",
    "print(final)"
   ]
  },
  {
   "attachments": {},
   "cell_type": "markdown",
   "metadata": {},
   "source": [
    "### Beautiful Soup 을 사용하여. https://remoteok.com/ 에서 jobs 를 긁어오는 스크래퍼를 만드세요."
   ]
  },
  {
   "cell_type": "code",
   "execution_count": 12,
   "metadata": {},
   "outputs": [
    {
     "name": "stdout",
     "output_type": "stream",
     "text": [
      "https://remoteok.io/remote-jobs/remote-senior-full-stack-engineer-fetlife-209776\n",
      "\n",
      "https://remoteok.io/remote-jobs/remote-senior-rust-developer-long-term-job-proxify-184353\n",
      "\n",
      "https://remoteok.io/remote-jobs/remote-developer-community-liaison-rdx-works-192000\n",
      "\n",
      "https://remoteok.io/remote-jobs/remote-senior-software-developer-commit-178966\n",
      "\n",
      "https://remoteok.io/remote-jobs/remote-senior-developer-commit-177668\n",
      "\n",
      "https://remoteok.io/remote-jobs/remote-senior-full-stack-developer-commit-173970\n",
      "\n",
      "https://remoteok.io/remote-jobs/remote-senior-software-developer-commit-167567\n",
      "\n",
      "https://remoteok.io/remote-jobs/remote-senior-full-stack-developer-commit-156018\n",
      "\n",
      "https://remoteok.io/remote-jobs/remote-blockchain-developer-lemon-io-152805\n",
      "\n",
      "https://remoteok.io/remote-jobs/remote-senior-software-developer-commit-152400\n",
      "\n",
      "https://remoteok.io/remote-jobs/remote-senior-software-developer-commit-149367\n",
      "\n",
      "https://remoteok.io/remote-jobs/remote-senior-full-stack-software-developer-commit-145669\n",
      "\n",
      "https://remoteok.io/remote-jobs/remote-senior-full-stack-developer-commit-142689\n",
      "\n",
      "https://remoteok.io/remote-jobs/remote-rust-engineer-risc-zero-112320\n",
      "\n",
      "https://remoteok.io/remote-jobs/remote-senior-back-end-developer-commit-124104\n",
      "\n",
      "https://remoteok.io/remote-jobs/remote-protocol-engineer-forest-chainsafe-122117\n",
      "\n",
      "https://remoteok.io/remote-jobs/remote-senior-back-end-developer-commit-118578\n",
      "\n",
      "https://remoteok.io/remote-jobs/114277-remote-senior-full-stack-developer-commit\n",
      "\n",
      "https://remoteok.io/remote-jobs/112225-remote-senior-rust-developer-rdx-works\n",
      "\n",
      "https://remoteok.io/remote-jobs/112196-remote-senior-developer-commit\n",
      "\n"
     ]
    }
   ],
   "source": [
    "from bs4 import BeautifulSoup\n",
    "import requests\n",
    "\n",
    "def extract_jobs(term):\n",
    "    url = f\"https://remoteok.com/remote-{term}-jobs\"\n",
    "    request = requests.get(url, headers={\"User-Agent\": \"Kimchi\"})\n",
    "\n",
    "    if request.status_code == 200:\n",
    "        soup = BeautifulSoup(request.text, \"html.parser\")\n",
    "        jobs = soup.find_all(\"tr\", {\"class\": \"job\"})\n",
    "\n",
    "        for job in jobs:\n",
    "            title = job.find(\"h2\", {\"itemprop\": \"title\"}).text.strip()\n",
    "            company = job.find(\"h3\", {\"itemprop\": \"name\"}).text.strip()\n",
    "            location = job.find(\"div\", {\"class\": \"location\"}).text.strip()\n",
    "            link = \"https://remoteok.io\" + job.find(\"a\", {\"class\": \"preventLink\"})[\"href\"]\n",
    "            print(f\"{link}\\n\")\n",
    "\n",
    "    else:\n",
    "        print(\"Can't get jobs.\")\n",
    "\n",
    "extract_jobs(\"rust\")\n"
   ]
  },
  {
   "cell_type": "code",
   "execution_count": null,
   "metadata": {},
   "outputs": [],
   "source": []
  }
 ],
 "metadata": {
  "kernelspec": {
   "display_name": "base",
   "language": "python",
   "name": "python3"
  },
  "language_info": {
   "codemirror_mode": {
    "name": "ipython",
    "version": 3
   },
   "file_extension": ".py",
   "mimetype": "text/x-python",
   "name": "python",
   "nbconvert_exporter": "python",
   "pygments_lexer": "ipython3",
   "version": "3.10.9"
  },
  "orig_nbformat": 4
 },
 "nbformat": 4,
 "nbformat_minor": 2
}
