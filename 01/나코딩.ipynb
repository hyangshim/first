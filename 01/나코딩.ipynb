{
 "cells": [
  {
   "cell_type": "code",
   "execution_count": 3,
   "metadata": {},
   "outputs": [
    {
     "name": "stdout",
     "output_type": "stream",
     "text": [
      "('사당', '신도림', '인천공항')행 열차가 들어오고 있습니다.\n"
     ]
    }
   ],
   "source": [
    "station =\"사당\",'신도림','인천공항'\n",
    "print(f'{station}행 열차가 들어오고 있습니다.')"
   ]
  },
  {
   "cell_type": "code",
   "execution_count": 4,
   "metadata": {},
   "outputs": [
    {
     "name": "stdout",
     "output_type": "stream",
     "text": [
      "4\n"
     ]
    }
   ],
   "source": [
    "from random import *\n",
    "print(int(random()* 45)+1)   # 1 ~ 45이하의 임의의 값 생성"
   ]
  },
  {
   "cell_type": "code",
   "execution_count": 6,
   "metadata": {},
   "outputs": [
    {
     "name": "stdout",
     "output_type": "stream",
     "text": [
      "38\n"
     ]
    }
   ],
   "source": [
    "# 1 ~ 45미만의 임의의 값 생성\n",
    "print(randrange(1,45))      "
   ]
  },
  {
   "cell_type": "code",
   "execution_count": null,
   "metadata": {},
   "outputs": [],
   "source": [
    "# 1 ~ 45이하의 임의의 값 생성\n",
    "print(randint(1,45))  #45가 포함됨"
   ]
  },
  {
   "cell_type": "code",
   "execution_count": 8,
   "metadata": {},
   "outputs": [
    {
     "name": "stdout",
     "output_type": "stream",
     "text": [
      "오프라인 스터디 모임 날짜는 매월 5일로 선정되었습니다.\n"
     ]
    }
   ],
   "source": [
    "a=randint(4,28)\n",
    "print(f'오프라인 스터디 모임 날짜는 매월 {a}일로 선정되었습니다.' )"
   ]
  },
  {
   "cell_type": "code",
   "execution_count": 9,
   "metadata": {},
   "outputs": [
    {
     "name": "stdout",
     "output_type": "stream",
     "text": [
      "나는 25 입니다.\n"
     ]
    }
   ],
   "source": [
    "#d는 정수값만 입력해야함\n",
    "print(\"나는 %d 입니다.\"% 25)"
   ]
  },
  {
   "cell_type": "code",
   "execution_count": 10,
   "metadata": {},
   "outputs": [
    {
     "name": "stdout",
     "output_type": "stream",
     "text": [
      "나는 파이썬 입니다.\n"
     ]
    }
   ],
   "source": [
    "# s 는 스트링 s자로 문자열만 가능\n",
    "print(\"나는 %s 입니다.\"% \"파이썬\")"
   ]
  },
  {
   "cell_type": "code",
   "execution_count": 11,
   "metadata": {},
   "outputs": [
    {
     "name": "stdout",
     "output_type": "stream",
     "text": [
      "APPle A 입니다.\n"
     ]
    }
   ],
   "source": [
    "# %c\t문자 1개(character)\n",
    "print(\"APPle %c 입니다.\"% \"A\")"
   ]
  },
  {
   "cell_type": "code",
   "execution_count": 12,
   "metadata": {},
   "outputs": [
    {
     "name": "stdout",
     "output_type": "stream",
     "text": [
      "pineapple\n"
     ]
    }
   ],
   "source": [
    "#\\r : 커서를 맨 앞으로 이동\n",
    "print(\"Rea apple\\rpine\")"
   ]
  },
  {
   "cell_type": "code",
   "execution_count": 13,
   "metadata": {},
   "outputs": [
    {
     "name": "stdout",
     "output_type": "stream",
     "text": [
      "RedApple\n"
     ]
    }
   ],
   "source": [
    "# \\b : 백스페이스(한 글자 삭제)\n",
    "print(\"Redd\\bApple\") #d를 지워줌"
   ]
  },
  {
   "cell_type": "code",
   "execution_count": 14,
   "metadata": {},
   "outputs": [
    {
     "name": "stdout",
     "output_type": "stream",
     "text": [
      "Redd\tApple\n"
     ]
    }
   ],
   "source": [
    "# \\t : 탭\n",
    "print(\"Redd\\tApple\")"
   ]
  },
  {
   "cell_type": "code",
   "execution_count": 45,
   "metadata": {},
   "outputs": [
    {
     "name": "stdout",
     "output_type": "stream",
     "text": [
      "nav51!\n"
     ]
    }
   ],
   "source": [
    "url =\"http://naver.com\"\n",
    "my_list = url.replace(\"http://\",\"\") # http:// 은 지우기\n",
    "my_list=my_list[:my_list.index(\".\")] # .뒤로 자르기\n",
    "password =my_list[:3]+str(len(my_list))+str(my_list.count(\"e\"))+\"!\"\n",
    "print(password)"
   ]
  },
  {
   "cell_type": "code",
   "execution_count": 46,
   "metadata": {},
   "outputs": [],
   "source": [
    "# .append() 맨뒤에 추가하기\n",
    "# .insert(1,\"추가핢 문장\")    중간에 추가할수있음\n",
    "# .pop()    뒤에서 하나가 삭제됨\n",
    "# .count()   몇번 나오는지\n",
    "# a.sort()   정렬\n",
    "# .reverse() 순서 뒤집기 가능\n"
   ]
  },
  {
   "cell_type": "code",
   "execution_count": 48,
   "metadata": {},
   "outputs": [
    {
     "data": {
      "text/plain": [
       "[5, 65, 5, 5858, '조세호', 2, True]"
      ]
     },
     "execution_count": 48,
     "metadata": {},
     "output_type": "execute_result"
    }
   ],
   "source": [
    "# 리스트 확장 (합치기)\n",
    "num = [5,65,5,5858]\n",
    "mix =['조세호',2,True]\n",
    "num.extend(mix)\n",
    "num"
   ]
  },
  {
   "cell_type": "code",
   "execution_count": null,
   "metadata": {},
   "outputs": [],
   "source": []
  }
 ],
 "metadata": {
  "kernelspec": {
   "display_name": "base",
   "language": "python",
   "name": "python3"
  },
  "language_info": {
   "codemirror_mode": {
    "name": "ipython",
    "version": 3
   },
   "file_extension": ".py",
   "mimetype": "text/x-python",
   "name": "python",
   "nbconvert_exporter": "python",
   "pygments_lexer": "ipython3",
   "version": "3.10.9"
  },
  "orig_nbformat": 4
 },
 "nbformat": 4,
 "nbformat_minor": 2
}
