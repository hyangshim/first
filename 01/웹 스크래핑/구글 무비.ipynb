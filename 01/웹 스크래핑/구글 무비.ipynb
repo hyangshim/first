{
 "cells": [
  {
   "cell_type": "code",
   "execution_count": 19,
   "metadata": {},
   "outputs": [],
   "source": [
    "import requests\n",
    "import pandas as pd\n",
    "from bs4 import BeautifulSoup\n"
   ]
  },
  {
   "cell_type": "code",
   "execution_count": 20,
   "metadata": {},
   "outputs": [
    {
     "name": "stdout",
     "output_type": "stream",
     "text": [
      "83\n"
     ]
    }
   ],
   "source": [
    "url =\"https://play.google.com/store/movies/category/MOVIE?hl=ko&gl=US\"\n",
    "headers ={\"User-Agent\":\"Mozilla/5.0 (Linux; Android 6.0; Nexus 5 Build/MRA58N) AppleWebKit/537.36 (KHTML, like Gecko) Chrome/112.0.0.0 Mobile Safari/537.36\",\n",
    "          \"Accept-Language\":\"ko-KR,Ko\"\n",
    "}\n",
    "res =requests.get(url,headers=headers)\n",
    "res.raise_for_status()\n",
    "soup = BeautifulSoup(res.text,\"lxml\")\n",
    "movies = soup.find_all(\"div\",attrs={\"class\":\"ULeU3b neq64b\"})\n",
    "print(len(movies))"
   ]
  },
  {
   "cell_type": "code",
   "execution_count": 21,
   "metadata": {},
   "outputs": [],
   "source": [
    "# with open(\"뮤비.html\",\"w\",encoding=\"utf8\") as f:\n",
    "#     f.write(res.text)"
   ]
  },
  {
   "cell_type": "code",
   "execution_count": 23,
   "metadata": {},
   "outputs": [
    {
     "name": "stdout",
     "output_type": "stream",
     "text": [
      "앤트맨과 와스프: 퀀텀매니아 4.1star\n",
      "Avatar: The Way of Water 4.3star\n",
      "65 3.8star\n",
      "War of the Worlds: The Attack US$6.99\n",
      "샤잠! 신들의 분노 3.5star\n",
      "Little Richard: I Am Everything US$6.99\n",
      "Sakra US$6.99\n",
      "크리드 3 4.3star\n",
      "A Thousand and One 5.0star\n",
      "The Best Man US$6.99\n",
      "Enys Men 3.0star\n",
      "Perfect Addiction 5.0star\n",
      "Blueback US$3.99\n",
      "Accidental Truth - UFO Revelations US$14.99\n",
      "Jesus Revolution 4.7star\n",
      "A Good Person 4.0star\n",
      "Wicked Games US$3.99\n",
      "Gringa US$6.99\n",
      "Cube US$3.99\n",
      "The Christmas Miracle of Jonathan Toomey US$2.99\n",
      "크리드 3 4.3star\n",
      "Man Called Otto, A 4.6star\n",
      "Puss in Boots: The Last Wish 4.5star\n",
      "The Whale 3.9star\n",
      "Cocaine Bear 4.1star\n",
      "John Wick: Chapter 4 4.7star\n",
      "앤트맨과 와스프: 퀀텀매니아 4.1star\n",
      "Avatar: The Way of Water 4.3star\n",
      "샤잠! 신들의 분노 3.5star\n",
      "65 3.8star\n",
      "The Unbearable Weight of Massive Talent 4.2star\n",
      "Dragon Ball Super: Super Hero 4.5star\n",
      "John Wick: Chapter 3 - Parabellum 4.7star\n",
      "The Super Mario Bros. Movie 4.7star\n",
      "Missing 4.4star\n",
      "John Wick 4.8star\n",
      "M3GAN (Unrated) 4.6star\n",
      "John Wick Chapter 2 4.7star\n",
      "Everything Everywhere All At Once 4.5star\n",
      "Operation Fortune: Ruse de guerre 4.0star\n"
     ]
    },
    {
     "ename": "AttributeError",
     "evalue": "'NoneType' object has no attribute 'get_text'",
     "output_type": "error",
     "traceback": [
      "\u001b[1;31m---------------------------------------------------------------------------\u001b[0m",
      "\u001b[1;31mAttributeError\u001b[0m                            Traceback (most recent call last)",
      "Cell \u001b[1;32mIn[23], line 2\u001b[0m\n\u001b[0;32m      1\u001b[0m \u001b[39mfor\u001b[39;00m movie \u001b[39min\u001b[39;00m movies:\n\u001b[1;32m----> 2\u001b[0m     title\u001b[39m=\u001b[39m movie\u001b[39m.\u001b[39;49mfind(\u001b[39m\"\u001b[39;49m\u001b[39mdiv\u001b[39;49m\u001b[39m\"\u001b[39;49m,attrs\u001b[39m=\u001b[39;49m{\u001b[39m\"\u001b[39;49m\u001b[39mclass\u001b[39;49m\u001b[39m\"\u001b[39;49m:\u001b[39m\"\u001b[39;49m\u001b[39mEpkrse\u001b[39;49m\u001b[39m\"\u001b[39;49m})\u001b[39m.\u001b[39;49mget_text()\n\u001b[0;32m      3\u001b[0m     a\u001b[39m=\u001b[39mmovie\u001b[39m.\u001b[39mfind(\u001b[39m\"\u001b[39m\u001b[39mdiv\u001b[39m\u001b[39m\"\u001b[39m,attrs\u001b[39m=\u001b[39m{\u001b[39m\"\u001b[39m\u001b[39mclass\u001b[39m\u001b[39m\"\u001b[39m:\u001b[39m\"\u001b[39m\u001b[39mLrNMN\u001b[39m\u001b[39m\"\u001b[39m})\u001b[39m.\u001b[39mget_text()\u001b[39m.\u001b[39msplit(\u001b[39m'\u001b[39m\u001b[39m\\n\u001b[39;00m\u001b[39m'\u001b[39m)[\u001b[39m0\u001b[39m]\u001b[39m.\u001b[39mstrip()\n\u001b[0;32m      4\u001b[0m     \u001b[39mprint\u001b[39m(title,a)\n",
      "\u001b[1;31mAttributeError\u001b[0m: 'NoneType' object has no attribute 'get_text'"
     ]
    }
   ],
   "source": [
    "for movie in movies:\n",
    "    title= movie.find(\"div\",attrs={\"class\":\"Epkrse\"}).get_text()\n",
    "    a=movie.find(\"div\",attrs={\"class\":\"LrNMN\"}).get_text().split('\\n')[0].strip()\n",
    "    print(title,a)"
   ]
  }
 ],
 "metadata": {
  "kernelspec": {
   "display_name": "base",
   "language": "python",
   "name": "python3"
  },
  "language_info": {
   "codemirror_mode": {
    "name": "ipython",
    "version": 3
   },
   "file_extension": ".py",
   "mimetype": "text/x-python",
   "name": "python",
   "nbconvert_exporter": "python",
   "pygments_lexer": "ipython3",
   "version": "3.10.9"
  },
  "orig_nbformat": 4
 },
 "nbformat": 4,
 "nbformat_minor": 2
}
