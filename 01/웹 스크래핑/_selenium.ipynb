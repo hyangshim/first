{
 "cells": [
  {
   "attachments": {},
   "cell_type": "markdown",
   "metadata": {},
   "source": [
    "크롬버전과 호환이 되여함 \n",
    "주소창에 chrome://version 112.0.5615.138\n",
    "chromedriver 검색해서 버전에 맞는걸 다운로드 하기"
   ]
  },
  {
   "cell_type": "code",
   "execution_count": 7,
   "metadata": {},
   "outputs": [],
   "source": [
    "import time\n",
    "from selenium import webdriver\n"
   ]
  },
  {
   "cell_type": "code",
   "execution_count": 8,
   "metadata": {},
   "outputs": [],
   "source": [
    "browser = webdriver.Chrome()#\"./chromedriver.exe\"\n",
    "#네이버 이동\n",
    "browser.get(\"http://naver.com\")"
   ]
  },
  {
   "cell_type": "code",
   "execution_count": 9,
   "metadata": {},
   "outputs": [
    {
     "ename": "AttributeError",
     "evalue": "'WebDriver' object has no attribute 'find_element_by_class_name'",
     "output_type": "error",
     "traceback": [
      "\u001b[1;31m---------------------------------------------------------------------------\u001b[0m",
      "\u001b[1;31mAttributeError\u001b[0m                            Traceback (most recent call last)",
      "Cell \u001b[1;32mIn[9], line 2\u001b[0m\n\u001b[0;32m      1\u001b[0m \u001b[39m# 로그인 버튼 클릭\u001b[39;00m\n\u001b[1;32m----> 2\u001b[0m elem \u001b[39m=\u001b[39m browser\u001b[39m.\u001b[39;49mfind_element_by_class_name(\u001b[39m\"\u001b[39m\u001b[39mlink_login\u001b[39m\u001b[39m\"\u001b[39m)\n\u001b[0;32m      3\u001b[0m elem\u001b[39m.\u001b[39mclick()\n",
      "\u001b[1;31mAttributeError\u001b[0m: 'WebDriver' object has no attribute 'find_element_by_class_name'"
     ]
    }
   ],
   "source": [
    "# 로그인 버튼 클릭\n",
    "elem = browser.find_element_by_class_name(\"link_login\")\n",
    "elem.click()\n"
   ]
  },
  {
   "cell_type": "code",
   "execution_count": null,
   "metadata": {},
   "outputs": [],
   "source": [
    "# 3.id pw 입력\n",
    "browser.find_element_by_id(\"id\").send_kiys(\"naver_id\")\n",
    "browser.find_element_by_id(\"pw\").send_kiys(\"password\")"
   ]
  },
  {
   "cell_type": "code",
   "execution_count": null,
   "metadata": {},
   "outputs": [],
   "source": [
    "#4. 로그인 버튼 클릭\n",
    "browser.find_element_by_id(\"log.login\").clikc()\n",
    "time.sleep(3)"
   ]
  },
  {
   "cell_type": "code",
   "execution_count": null,
   "metadata": {},
   "outputs": [],
   "source": [
    "# 5. id 를 새로 입력\n",
    "#browser.find_element_by_id(\"id\").send_keys(\"my_id\")\n",
    "browser.find_element_by_id(\"id\").clear()\n",
    "browser.find_element_by_id(\"id\").send_keys(\"my_id\")"
   ]
  },
  {
   "cell_type": "code",
   "execution_count": null,
   "metadata": {},
   "outputs": [],
   "source": [
    " # 6. html 정보 출력\n",
    "print(browser.page_source)"
   ]
  },
  {
   "cell_type": "code",
   "execution_count": null,
   "metadata": {},
   "outputs": [],
   "source": [
    "# 7. 브라우저 종료\n",
    "#browser.close() # 현재 탭만 종료\n",
    "browser.quit() # 전체 브라우저 종료"
   ]
  }
 ],
 "metadata": {
  "kernelspec": {
   "display_name": "base",
   "language": "python",
   "name": "python3"
  },
  "language_info": {
   "codemirror_mode": {
    "name": "ipython",
    "version": 3
   },
   "file_extension": ".py",
   "mimetype": "text/x-python",
   "name": "python",
   "nbconvert_exporter": "python",
   "pygments_lexer": "ipython3",
   "version": "3.10.9"
  },
  "orig_nbformat": 4
 },
 "nbformat": 4,
 "nbformat_minor": 2
}
