{
 "cells": [
  {
   "cell_type": "code",
   "execution_count": 3,
   "metadata": {},
   "outputs": [
    {
     "name": "stdout",
     "output_type": "stream",
     "text": [
      "('사당', '신도림', '인천공항')행 열차가 들어오고 있습니다.\n"
     ]
    }
   ],
   "source": [
    "station =\"사당\",'신도림','인천공항'\n",
    "print(f'{station}행 열차가 들어오고 있습니다.')"
   ]
  },
  {
   "cell_type": "code",
   "execution_count": 4,
   "metadata": {},
   "outputs": [
    {
     "name": "stdout",
     "output_type": "stream",
     "text": [
      "4\n"
     ]
    }
   ],
   "source": [
    "from random import *\n",
    "print(int(random()* 45)+1)   # 1 ~ 45이하의 임의의 값 생성"
   ]
  },
  {
   "cell_type": "code",
   "execution_count": 6,
   "metadata": {},
   "outputs": [
    {
     "name": "stdout",
     "output_type": "stream",
     "text": [
      "38\n"
     ]
    }
   ],
   "source": [
    "# 1 ~ 45미만의 임의의 값 생성\n",
    "print(randrange(1,45))      "
   ]
  },
  {
   "cell_type": "code",
   "execution_count": null,
   "metadata": {},
   "outputs": [],
   "source": [
    "# 1 ~ 45이하의 임의의 값 생성\n",
    "print(randint(1,45))  #45가 포함됨"
   ]
  },
  {
   "cell_type": "code",
   "execution_count": 8,
   "metadata": {},
   "outputs": [
    {
     "name": "stdout",
     "output_type": "stream",
     "text": [
      "오프라인 스터디 모임 날짜는 매월 5일로 선정되었습니다.\n"
     ]
    }
   ],
   "source": [
    "a=randint(4,28)\n",
    "print(f'오프라인 스터디 모임 날짜는 매월 {a}일로 선정되었습니다.' )"
   ]
  },
  {
   "cell_type": "code",
   "execution_count": 9,
   "metadata": {},
   "outputs": [
    {
     "name": "stdout",
     "output_type": "stream",
     "text": [
      "나는 25 입니다.\n"
     ]
    }
   ],
   "source": [
    "#d는 정수값만 입력해야함\n",
    "print(\"나는 %d 입니다.\"% 25)"
   ]
  },
  {
   "cell_type": "code",
   "execution_count": 10,
   "metadata": {},
   "outputs": [
    {
     "name": "stdout",
     "output_type": "stream",
     "text": [
      "나는 파이썬 입니다.\n"
     ]
    }
   ],
   "source": [
    "# s 는 스트링 s자로 문자열만 가능\n",
    "print(\"나는 %s 입니다.\"% \"파이썬\")"
   ]
  },
  {
   "cell_type": "code",
   "execution_count": 11,
   "metadata": {},
   "outputs": [
    {
     "name": "stdout",
     "output_type": "stream",
     "text": [
      "APPle A 입니다.\n"
     ]
    }
   ],
   "source": [
    "# %c\t문자 1개(character)\n",
    "print(\"APPle %c 입니다.\"% \"A\")"
   ]
  },
  {
   "cell_type": "code",
   "execution_count": 12,
   "metadata": {},
   "outputs": [
    {
     "name": "stdout",
     "output_type": "stream",
     "text": [
      "pineapple\n"
     ]
    }
   ],
   "source": [
    "#\\r : 커서를 맨 앞으로 이동\n",
    "print(\"Rea apple\\rpine\")"
   ]
  },
  {
   "cell_type": "code",
   "execution_count": 13,
   "metadata": {},
   "outputs": [
    {
     "name": "stdout",
     "output_type": "stream",
     "text": [
      "RedApple\n"
     ]
    }
   ],
   "source": [
    "# \\b : 백스페이스(한 글자 삭제)\n",
    "print(\"Redd\\bApple\") #d를 지워줌"
   ]
  },
  {
   "cell_type": "code",
   "execution_count": 14,
   "metadata": {},
   "outputs": [
    {
     "name": "stdout",
     "output_type": "stream",
     "text": [
      "Redd\tApple\n"
     ]
    }
   ],
   "source": [
    "# \\t : 탭\n",
    "print(\"Redd\\tApple\")"
   ]
  },
  {
   "cell_type": "code",
   "execution_count": 45,
   "metadata": {},
   "outputs": [
    {
     "name": "stdout",
     "output_type": "stream",
     "text": [
      "nav51!\n"
     ]
    }
   ],
   "source": [
    "url =\"http://naver.com\"\n",
    "my_list = url.replace(\"http://\",\"\") # http:// 은 지우기\n",
    "my_list=my_list[:my_list.index(\".\")] # .뒤로 자르기\n",
    "password =my_list[:3]+str(len(my_list))+str(my_list.count(\"e\"))+\"!\"\n",
    "print(password)"
   ]
  },
  {
   "cell_type": "code",
   "execution_count": 46,
   "metadata": {},
   "outputs": [],
   "source": [
    "# .append() 맨뒤에 추가하기\n",
    "# .insert(1,\"추가핢 문장\")    중간에 추가할수있음\n",
    "# .pop()    뒤에서 하나가 삭제됨\n",
    "# .count()   몇번 나오는지\n",
    "# a.sort()   정렬\n",
    "# .reverse() 순서 뒤집기 가능\n"
   ]
  },
  {
   "cell_type": "code",
   "execution_count": 48,
   "metadata": {},
   "outputs": [
    {
     "data": {
      "text/plain": [
       "[5, 65, 5, 5858, '조세호', 2, True]"
      ]
     },
     "execution_count": 48,
     "metadata": {},
     "output_type": "execute_result"
    }
   ],
   "source": [
    "# 리스트 확장 (합치기)\n",
    "num = [5,65,5,5858]\n",
    "mix =['조세호',2,True]\n",
    "num.extend(mix)\n",
    "num"
   ]
  },
  {
   "cell_type": "code",
   "execution_count": 26,
   "metadata": {},
   "outputs": [
    {
     "name": "stdout",
     "output_type": "stream",
     "text": [
      "치킨 당첨자 : [9]\n",
      "커피 당첨자[1, 16, 17]\n"
     ]
    }
   ],
   "source": [
    "import random\n",
    "st1 =list(range(1,21))\n",
    "random.shuffle(st1)\n",
    "# st1 = random.sample(st1, 1)\n",
    "print(f'치킨 당첨자 : {random.sample(st1, 1)}')\n",
    "print(f'커피 당첨자{random.sample(st1, 3)}')"
   ]
  },
  {
   "cell_type": "code",
   "execution_count": 30,
   "metadata": {},
   "outputs": [
    {
     "name": "stdout",
     "output_type": "stream",
     "text": [
      "치킨 당첨자: 5\n",
      "커피 당첨자: [15, 4, 6]\n"
     ]
    }
   ],
   "source": [
    "import random\n",
    "\n",
    "st1 = list(range(1, 21))\n",
    "random.shuffle(st1)\n",
    "winners = random.sample(st1, 4)\n",
    "\n",
    "print(\"치킨 당첨자: {}\".format(winners[0]))\n",
    "print(\"커피 당첨자: {}\".format(winners[1:]))\n"
   ]
  },
  {
   "cell_type": "code",
   "execution_count": 2,
   "metadata": {},
   "outputs": [
    {
     "name": "stdout",
     "output_type": "stream",
     "text": [
      "[]1번째 손님 (소요시간: 42분)\n",
      "[]2번째 손님 (소요시간: 20분)\n",
      "[]3번째 손님 (소요시간: 37분)\n",
      "[]4번째 손님 (소요시간: 47분)\n",
      "[]5번째 손님 (소요시간: 36분)\n",
      "[]6번째 손님 (소요시간: 29분)\n",
      "[]7번째 손님 (소요시간: 18분)\n",
      "[O]8번째 손님 (소요시간: 8분)\n",
      "[]9번째 손님 (소요시간: 47분)\n",
      "[]10번째 손님 (소요시간: 19분)\n",
      "[]11번째 손님 (소요시간: 22분)\n",
      "[]12번째 손님 (소요시간: 47분)\n",
      "[O]13번째 손님 (소요시간: 8분)\n",
      "[]14번째 손님 (소요시간: 25분)\n",
      "[]15번째 손님 (소요시간: 17분)\n",
      "[]16번째 손님 (소요시간: 43분)\n",
      "[]17번째 손님 (소요시간: 37분)\n",
      "[]18번째 손님 (소요시간: 19분)\n",
      "[]19번째 손님 (소요시간: 24분)\n",
      "[O]20번째 손님 (소요시간: 12분)\n",
      "[]21번째 손님 (소요시간: 35분)\n",
      "[O]22번째 손님 (소요시간: 5분)\n",
      "[O]23번째 손님 (소요시간: 11분)\n",
      "[]24번째 손님 (소요시간: 32분)\n",
      "[]25번째 손님 (소요시간: 42분)\n",
      "[]26번째 손님 (소요시간: 32분)\n",
      "[]27번째 손님 (소요시간: 23분)\n",
      "[]28번째 손님 (소요시간: 45분)\n",
      "[]29번째 손님 (소요시간: 45분)\n",
      "[]30번째 손님 (소요시간: 32분)\n",
      "[]31번째 손님 (소요시간: 29분)\n",
      "[]32번째 손님 (소요시간: 21분)\n",
      "[]33번째 손님 (소요시간: 40분)\n",
      "[]34번째 손님 (소요시간: 41분)\n",
      "[]35번째 손님 (소요시간: 21분)\n",
      "[]36번째 손님 (소요시간: 37분)\n",
      "[O]37번째 손님 (소요시간: 10분)\n",
      "[O]38번째 손님 (소요시간: 14분)\n",
      "[]39번째 손님 (소요시간: 20분)\n",
      "[O]40번째 손님 (소요시간: 11분)\n",
      "[]41번째 손님 (소요시간: 38분)\n",
      "[]42번째 손님 (소요시간: 40분)\n",
      "[]43번째 손님 (소요시간: 17분)\n",
      "[]44번째 손님 (소요시간: 42분)\n",
      "[O]45번째 손님 (소요시간: 11분)\n",
      "[]46번째 손님 (소요시간: 23분)\n",
      "[O]47번째 손님 (소요시간: 14분)\n",
      "[]48번째 손님 (소요시간: 25분)\n",
      "[O]49번째 손님 (소요시간: 10분)\n",
      "[]50번째 손님 (소요시간: 43분)\n",
      "총 탑승객 11\n"
     ]
    }
   ],
   "source": [
    "from random import *\n",
    "a =0\n",
    "for i in range(1,51):\n",
    "    time =randrange(5,51)\n",
    "    if 5 <= time <= 15:\n",
    "        print(f\"[O]{i}번째 손님 (소요시간: {time}분)\")\n",
    "        a += 1\n",
    "    else:\n",
    "        print(f\"[]{i}번째 손님 (소요시간: {time}분)\")\n",
    "print(f\"총 탑승객 {a}\")"
   ]
  },
  {
   "cell_type": "code",
   "execution_count": 9,
   "metadata": {},
   "outputs": [
    {
     "name": "stdout",
     "output_type": "stream",
     "text": [
      "키 175 남자의 표준 체중은 67.38입니다.\n"
     ]
    }
   ],
   "source": [
    "def std_weight(height,gender):\n",
    "    if gender =='여자':\n",
    "        print(f'키 {height} {gender}의 표준 체중은 {round((height*height)*0.01*0.01*21,2)}입니다.')\n",
    "    else:\n",
    "        print(f'키 {height} {gender}의 표준 체중은 {round((height*height*0.01*0.01)*22,2)}입니다.')\n",
    "\n",
    "std_weight(175,'남자')\n"
   ]
  },
  {
   "cell_type": "code",
   "execution_count": 10,
   "metadata": {},
   "outputs": [],
   "source": [
    "for i in range(1,51):\n",
    "    with open(str(i)+\"주차.txt\",\"w\",encoding=\"utf8\")as report:\n",
    "        report.write(\"{0}주차 주간보고\".format(i))\n",
    "        report.write(\"\\n부서\")\n",
    "        report.write(\"\\n이름\")\n",
    "        report.write(\"\\n업무요약\")  \n"
   ]
  }
 ],
 "metadata": {
  "kernelspec": {
   "display_name": "base",
   "language": "python",
   "name": "python3"
  },
  "language_info": {
   "codemirror_mode": {
    "name": "ipython",
    "version": 3
   },
   "file_extension": ".py",
   "mimetype": "text/x-python",
   "name": "python",
   "nbconvert_exporter": "python",
   "pygments_lexer": "ipython3",
   "version": "3.10.9"
  },
  "orig_nbformat": 4
 },
 "nbformat": 4,
 "nbformat_minor": 2
}
