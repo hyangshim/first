{
 "cells": [
  {
   "attachments": {},
   "cell_type": "markdown",
   "metadata": {},
   "source": [
    "- 웹은 HTML(뼈대) CSS(인테리어) JS(사람이 살고있는거) 으로 구성되여 있음\n",
    "    "
   ]
  },
  {
   "cell_type": "code",
   "execution_count": null,
   "metadata": {},
   "outputs": [],
   "source": [
    "# Xpath = html경로(위에서부터 하나씩 따옴)똑같은거 있으면 인덱스를 이용해서 가져오기 ex)[2]\n",
    "# //*[@id =\"longin\"]\n",
    "# //는 지금 위치있는데부터 모든하위엘리먼트\n",
    "# * 엘리먼트 상관없이 모두 찾기\n",
    "# //*[@id=\"account\"]/a"
   ]
  },
  {
   "cell_type": "code",
   "execution_count": null,
   "metadata": {},
   "outputs": [],
   "source": [
    "#html 정보 가져다 주는것\n",
    "# import requests\n",
    "# res=requests.get(\"홈페이지\")\n",
    "#status_code = 홈페이지 상태 숫자로 나타내는것\n",
    " "
   ]
  },
  {
   "cell_type": "code",
   "execution_count": 1,
   "metadata": {},
   "outputs": [],
   "source": [
    "import re\n",
    "p=re.compile(\"ca.e\")\n"
   ]
  },
  {
   "cell_type": "code",
   "execution_count": null,
   "metadata": {},
   "outputs": [],
   "source": [
    "#m.group()) # 일치하는 문자열 반환\n",
    "#m.string) # 입력받은 문자열\n",
    "#m.start()) # 일치하는 문자열의 시작 index\n",
    "#m.end()) # 일치하는 문자열의 끝 index\n",
    "#m.span()) # 일치하는 문자열의 시작 / 끝 index\n",
    "사용하는 방법\n",
    "# 1. p = re.compile(\"원하는 형태\")   \n",
    "# 2. m = p.match(\"비교할 문자열\") : 주어진 문자열의 처음부터 일치하는지 확인\n",
    "# 3. m = p.search(\"비교할 문자열\") : 주어진 문자열 중에 일치하는게 있는지 확인\n",
    "# 4. lst = p.findall(\"비교할 문자열\") : 일치하는 모든 것을 \"리스트\" 형태로 반환\n",
    "# . (ca.e) : 하나의 문자를 의미 > care, cafe, case (O) | caffe (X)\n",
    "# ^ (^de)  : 문자열의 시작 > desk, destination (O) | fade (X)\n",
    "# $ (se$)  : 문자열의 끝 > case, base (O) | face (X)"
   ]
  },
  {
   "cell_type": "code",
   "execution_count": 2,
   "metadata": {},
   "outputs": [],
   "source": [
    "import requests\n",
    "url = \"http://nadocoding.tistory.com\"\n",
    "headers = {\"User-Agent\":\"Mozilla/5.0 (Windows NT 10.0; Win64; x64) AppleWebKit/537.36 (KHTML, like Gecko) Chrome/84.0.4147.89 Safari/537.36\"}\n",
    "res = requests.get(url, headers=headers)\n",
    "res.raise_for_status()\n",
    "with open(\"nadocoding.html\", \"w\", encoding=\"utf8\") as f:\n",
    "    f.write(res.text)"
   ]
  },
  {
   "cell_type": "code",
   "execution_count": 4,
   "metadata": {},
   "outputs": [],
   "source": [
    "import requests\n",
    "from bs4 import BeautifulSoup\n",
    "soup = BeautifulSoup(res.text, \"lxml\")\n",
    "#가죠온 html 문서를 lxml  파서(parser)를 통해서 BeautifulSoup객체로 만듬 soup이 모든 객체를 가지고있음\n",
    "#attrs : 속성값 모두 출력 ex)a.attrs 이러면 a태그의 속성값을 보여줘\n"
   ]
  }
 ],
 "metadata": {
  "kernelspec": {
   "display_name": "base",
   "language": "python",
   "name": "python3"
  },
  "language_info": {
   "codemirror_mode": {
    "name": "ipython",
    "version": 3
   },
   "file_extension": ".py",
   "mimetype": "text/x-python",
   "name": "python",
   "nbconvert_exporter": "python",
   "pygments_lexer": "ipython3",
   "version": "3.10.9"
  },
  "orig_nbformat": 4
 },
 "nbformat": 4,
 "nbformat_minor": 2
}
